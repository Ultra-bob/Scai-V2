{
 "cells": [
  {
   "cell_type": "code",
   "execution_count": 111,
   "metadata": {},
   "outputs": [],
   "source": [
    "import requests\n",
    "import filters\n",
    "from urllib.parse import quote\n",
    "from jinja2 import Environment, FileSystemLoader\n",
    "environment = Environment(loader=FileSystemLoader(\"templates/\"), lstrip_blocks=True, trim_blocks=True)"
   ]
  },
  {
   "cell_type": "code",
   "execution_count": 112,
   "metadata": {},
   "outputs": [],
   "source": [
    "environment.filters.update({\"fix_camelcase\": filters.fix_camelcase, \"commas\": filters.numberFormat})"
   ]
  },
  {
   "cell_type": "code",
   "execution_count": 113,
   "metadata": {},
   "outputs": [],
   "source": [
    "data = requests.get(\"https://api.star-citizen.wiki/api/v2/vehicle-items/\" + quote(\"FR-66\"), params={\"locale\": \"en_EN\", \"include\": \"shops,shops.items\"}).json()[\"data\"]"
   ]
  },
  {
   "cell_type": "code",
   "execution_count": 114,
   "metadata": {},
   "outputs": [
    {
     "name": "stdout",
     "output_type": "stream",
     "text": [
      "# Ship Component: FR-66 (Size 1 Military Grade A Shield)\n",
      "The FR-66 is one of the most versatile small shield generator currently on the market. Get military strength protection and performance from Gorgon Defender Industries to ensure your ship can survive any onslaught.\n",
      "\n",
      "## Specs\n",
      "Max shield HP: 1,725\n",
      "Max shield regen: 450HP/sec\n",
      "Damaged regen delay: 5\n",
      "Downed regen delay: 10\n",
      "\n",
      "## Buyable at\n",
      "Cousin Crows, Orison (18,450 aUEC)\n",
      "Platinum Bay, CRU-L1 (18,450 aUEC)\n",
      "\n"
     ]
    }
   ],
   "source": [
    "template = environment.get_template(f\"components/{data['type'].lower()}.jinja\")\n",
    "print(template.render(data))"
   ]
  }
 ],
 "metadata": {
  "kernelspec": {
   "display_name": ".venv",
   "language": "python",
   "name": "python3"
  },
  "language_info": {
   "codemirror_mode": {
    "name": "ipython",
    "version": 3
   },
   "file_extension": ".py",
   "mimetype": "text/x-python",
   "name": "python",
   "nbconvert_exporter": "python",
   "pygments_lexer": "ipython3",
   "version": "3.11.5"
  },
  "orig_nbformat": 4
 },
 "nbformat": 4,
 "nbformat_minor": 2
}
