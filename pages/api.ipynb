{
 "cells": [
  {
   "cell_type": "code",
   "execution_count": 31,
   "metadata": {},
   "outputs": [],
   "source": [
    "import requests\n",
    "import filters\n",
    "from urllib.parse import quote\n",
    "from jinja2 import Environment, FileSystemLoader\n",
    "environment = Environment(loader=FileSystemLoader(\"templates/\"), lstrip_blocks=True, trim_blocks=True)"
   ]
  },
  {
   "cell_type": "code",
   "execution_count": 32,
   "metadata": {},
   "outputs": [],
   "source": [
    "environment.filters.update({\"fix_camelcase\": filters.fix_camelcase, \"commas\": filters.numberFormat})"
   ]
  },
  {
   "cell_type": "code",
   "execution_count": 33,
   "metadata": {},
   "outputs": [],
   "source": [
    "data = requests.get(\"https://api.star-citizen.wiki/api/v2/vehicle-items/\" + quote(\"BlastChill\"), params={\"locale\": \"en_EN\", \"include\": \"shops,shops.items\"}).json()[\"data\"]"
   ]
  },
  {
   "cell_type": "code",
   "execution_count": 34,
   "metadata": {},
   "outputs": [
    {
     "name": "stdout",
     "output_type": "stream",
     "text": [
      "# Ship Component: BlastChill (Size 1 Grade D Civilian Cooler)\n",
      "The BlastChill is a consumer-grade cooler from Lightning Power Ltd. It keeps your ship running without straining its signature, but is best known for a much mocked 2945 ad campaign that promised it was \"Built to bring the chill.\"\n",
      "\n",
      "content\n",
      "\n",
      "## Buyable at\n",
      "Dumper's Depot, Area 18 (11,815 aUEC)\n",
      "Platinum Bay, HUR-L3 (13,735 aUEC)\n",
      "Platinum Bay, HUR-L5 (13,900 aUEC)\n",
      "Platinum Bay, CRU-L4 (13,900 aUEC)\n",
      "\n"
     ]
    }
   ],
   "source": [
    "template = environment.get_template(\"component.jinja\")\n",
    "print(template.render(data))"
   ]
  }
 ],
 "metadata": {
  "kernelspec": {
   "display_name": ".venv",
   "language": "python",
   "name": "python3"
  },
  "language_info": {
   "codemirror_mode": {
    "name": "ipython",
    "version": 3
   },
   "file_extension": ".py",
   "mimetype": "text/x-python",
   "name": "python",
   "nbconvert_exporter": "python",
   "pygments_lexer": "ipython3",
   "version": "3.11.5"
  },
  "orig_nbformat": 4
 },
 "nbformat": 4,
 "nbformat_minor": 2
}
