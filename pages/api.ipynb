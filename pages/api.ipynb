{
 "cells": [
  {
   "cell_type": "code",
   "execution_count": 68,
   "metadata": {},
   "outputs": [],
   "source": [
    "import requests\n",
    "from urllib.parse import quote\n",
    "from jinja2 import Environment, FileSystemLoader\n",
    "environment = Environment(loader=FileSystemLoader(\"templates/\"))"
   ]
  },
  {
   "cell_type": "code",
   "execution_count": 91,
   "metadata": {},
   "outputs": [],
   "source": [
    "weapon = requests.get(\"https://api.star-citizen.wiki/api/v2/weapons/\" + quote(\"P8-AR Rifle\"), params={\"locale\": \"en_EN\", \"include\": \"shops,shops.items\"}).json()[\"data\"]"
   ]
  },
  {
   "cell_type": "code",
   "execution_count": 104,
   "metadata": {},
   "outputs": [
    {
     "name": "stdout",
     "output_type": "stream",
     "text": [
      "# Weapon: GP-33 MOD Grenade Launcher\n",
      "The military-grade GP-33 MOD launcher fires 40mm grenades to clear rooms and flush out enemies behind cover thanks to Behring's precision design that primes each grenade to explode on impact.\n",
      "\n",
      "## Weapon Stats\n",
      "Weapon Type: Ballistic Grenade Launcher\n",
      "Magazine: 6 rounds\n",
      "Range: Variable (80m)\n",
      "Fire Rate: 40 rpm\n",
      "Damage/Shot: 22\n",
      "\n",
      "## Attachments\n",
      "Magazine Slot (Size 1)\n",
      "Barrel Attachment Slot (Size 2)\n",
      "OpticsSlot (Size 1-2)\n",
      "UnderbarrelSlot (Size 1-2)\n",
      "\n",
      "## Purchase Locations\n",
      "Not Buyable (loot only)\n",
      "\n"
     ]
    }
   ],
   "source": [
    "template = environment.get_template(\"weapon.txt\")\n",
    "print(template.render(**weapon))\n"
   ]
  }
 ],
 "metadata": {
  "kernelspec": {
   "display_name": ".venv",
   "language": "python",
   "name": "python3"
  },
  "language_info": {
   "codemirror_mode": {
    "name": "ipython",
    "version": 3
   },
   "file_extension": ".py",
   "mimetype": "text/x-python",
   "name": "python",
   "nbconvert_exporter": "python",
   "pygments_lexer": "ipython3",
   "version": "3.12.0"
  },
  "orig_nbformat": 4
 },
 "nbformat": 4,
 "nbformat_minor": 2
}
