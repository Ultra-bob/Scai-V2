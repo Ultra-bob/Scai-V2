{
 "cells": [
  {
   "cell_type": "code",
   "execution_count": 31,
   "metadata": {},
   "outputs": [],
   "source": [
    "import requests\n",
    "import filters\n",
    "from urllib.parse import quote\n",
    "from jinja2 import Environment, FileSystemLoader\n",
    "environment = Environment(loader=FileSystemLoader(\"templates/\"), lstrip_blocks=True, trim_blocks=True)"
   ]
  },
  {
   "cell_type": "code",
   "execution_count": 32,
   "metadata": {},
   "outputs": [],
   "source": [
    "environment.filters.update({\"fix_camelcase\": filters.fix_camelcase, \"commas\": filters.numberFormat})"
   ]
  },
  {
   "cell_type": "code",
   "execution_count": 44,
   "metadata": {},
   "outputs": [],
   "source": [
    "data = requests.get(\"https://api.star-citizen.wiki/api/v2/vehicle-items/\" + quote(\"FR-66\"), params={\"locale\": \"en_EN\", \"include\": \"shops,shops.items\"}).json()[\"data\"]"
   ]
  },
  {
   "cell_type": "code",
   "execution_count": 45,
   "metadata": {},
   "outputs": [
    {
     "name": "stdout",
     "output_type": "stream",
     "text": [
      "# Ship Component: JS-500 (Size 3 Grade A Military Power Plant)\n",
      "The JS-500 is A&R's best performing large power plant. This military-grade component receives consistent praise from users both in the military and civilian market.\n",
      "\n",
      "## Specs\n",
      "Power output: 42500\n",
      "\n",
      "## Buyable at\n",
      "Cousin Crows, Orison (139,750 aUEC)\n",
      "\n"
     ]
    }
   ],
   "source": [
    "template = environment.get_template(f\"components/{data['type'].lower()}.jinja\")\n",
    "print(template.render(data))"
   ]
  }
 ],
 "metadata": {
  "kernelspec": {
   "display_name": ".venv",
   "language": "python",
   "name": "python3"
  },
  "language_info": {
   "codemirror_mode": {
    "name": "ipython",
    "version": 3
   },
   "file_extension": ".py",
   "mimetype": "text/x-python",
   "name": "python",
   "nbconvert_exporter": "python",
   "pygments_lexer": "ipython3",
   "version": "3.11.5"
  },
  "orig_nbformat": 4
 },
 "nbformat": 4,
 "nbformat_minor": 2
}
