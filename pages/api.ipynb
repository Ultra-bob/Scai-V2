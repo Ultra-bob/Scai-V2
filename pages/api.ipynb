{
 "cells": [
  {
   "cell_type": "code",
   "execution_count": 2,
   "metadata": {},
   "outputs": [],
   "source": [
    "import requests\n",
    "from urllib.parse import quote"
   ]
  },
  {
   "cell_type": "code",
   "execution_count": 3,
   "metadata": {},
   "outputs": [],
   "source": [
    "data = requests.get(\"https://api.star-citizen.wiki/api/v2/vehicle-items/\" + quote(\"FR-86\"), params={\"locale\": \"en_EN\", \"include\": \"shops,shops.items\"}).json()[\"data\"]"
   ]
  },
  {
   "cell_type": "code",
   "execution_count": 4,
   "metadata": {},
   "outputs": [
    {
     "name": "stdout",
     "output_type": "stream",
     "text": [
      "# Ship Component: FR-66 (Size 1 Military Grade A Shield)\n",
      "The FR-66 is one of the most versatile small shield generator currently on the market. Get military strength protection and performance from Gorgon Defender Industries to ensure your ship can survive any onslaught.\n",
      "\n",
      "## Specs\n",
      "Max shield HP: 1,725\n",
      "Max shield regen: 450HP/sec\n",
      "Damaged regen delay: 5\n",
      "Downed regen delay: 10\n",
      "\n",
      "## Buyable at\n",
      "Cousin Crows, Orison (18,450 aUEC)\n",
      "Platinum Bay, CRU-L1 (18,450 aUEC)\n",
      "\n"
     ]
    }
   ],
   "source": [
    "from parse import parse\n",
    "\n",
    "print(parse(data, \"component\"))"
   ]
  }
 ],
 "metadata": {
  "kernelspec": {
   "display_name": ".venv",
   "language": "python",
   "name": "python3"
  },
  "language_info": {
   "codemirror_mode": {
    "name": "ipython",
    "version": 3
   },
   "file_extension": ".py",
   "mimetype": "text/x-python",
   "name": "python",
   "nbconvert_exporter": "python",
   "pygments_lexer": "ipython3",
   "version": "3.11.5"
  },
  "orig_nbformat": 4
 },
 "nbformat": 4,
 "nbformat_minor": 2
}
