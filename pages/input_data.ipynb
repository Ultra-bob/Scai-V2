{
 "cells": [
  {
   "cell_type": "code",
   "execution_count": 1,
   "metadata": {},
   "outputs": [],
   "source": [
    "import requests\n",
    "from urllib.parse import quote\n",
    "from alive_progress import alive_it"
   ]
  },
  {
   "cell_type": "markdown",
   "metadata": {},
   "source": [
    "## List all pages in category"
   ]
  },
  {
   "cell_type": "code",
   "execution_count": 2,
   "metadata": {},
   "outputs": [],
   "source": [
    "API_NAME = \"vehicles\"\n",
    "FORMAT = \"vehicle\""
   ]
  },
  {
   "cell_type": "code",
   "execution_count": 3,
   "metadata": {},
   "outputs": [],
   "source": [
    "r = requests.get(f\"https://api.star-citizen.wiki/api/v2/{API_NAME}/?limit=10000&locale=en_EN\").json()[\"data\"]"
   ]
  },
  {
   "cell_type": "code",
   "execution_count": 4,
   "metadata": {},
   "outputs": [],
   "source": [
    "r = [(component[\"uuid\"], component[\"name\"]) for component in r if component[\"name\"] != \"<= PLACEHOLDER =>\" and (component[\"uuid\"] is not None)]"
   ]
  },
  {
   "cell_type": "code",
   "execution_count": 5,
   "metadata": {},
   "outputs": [
    {
     "data": {
      "text/plain": [
       "[('6135a874-4cb1-4f49-9f29-5781e5991f2b', '100i'),\n",
       " ('e7eeba8d-b108-48a1-a332-d9edbab2b9c1', '125a'),\n",
       " ('2f231daa-95e5-4cb2-a32e-4db8f29a30d6', '135c'),\n",
       " ('ce937681-caa2-4cfa-ab80-f5bf2a5b9a6c', '300i'),\n",
       " ('dc537d66-2abb-43aa-9d37-4e963fc6e9e2', '315p'),\n",
       " ('039a2768-1aff-4969-b2a4-ed8aeb21dae1', '325a'),\n",
       " ('316c6601-b405-4a3a-abac-394c655718f8', '350r'),\n",
       " ('718f4435-628b-4436-bb80-bf9cfef9a945', '400i'),\n",
       " ('f8ac4c26-8f4d-4cb3-9be2-7d867a95a877', '600i Explorer'),\n",
       " ('11b660a2-c77c-490b-9e85-ee70400c5cf8', '600i Touring'),\n",
       " ('9dc9c257-c413-416a-ab9b-06fbadf18d1e', '85X'),\n",
       " ('50ddaf5e-a8e3-42fe-a1d3-7267f39b39b0', '890 Jump'),\n",
       " ('c0b86c69-55ac-4af3-a722-d46282813e91', 'A1 Spirit'),\n",
       " ('3bee9f2d-4494-4560-b9f8-463bc90695cb', 'A2 Hercules'),\n",
       " ('50f551e3-3435-4cbe-9ecf-8712855a8e27', 'Anvil Ballista Dunestalker'),\n",
       " ('aaeb976b-7a79-4a9c-91ee-07ed05d4a399', 'Anvil Ballista Snowblind'),\n",
       " ('04571d49-0680-4b84-bdb1-dbebeb22c898', 'Ares Inferno'),\n",
       " ('30aab266-9131-4a07-808b-61c868cb404f', 'Ares Ion'),\n",
       " ('9c49ab88-43a0-4ea7-b159-1f1dd44b49b2', 'Argo Mole Carbon Edition'),\n",
       " ('31eaaac4-b1ee-4430-a01c-b4ef0470715d', 'Argo Mole Talus Edition'),\n",
       " ('eaeb562d-d4ac-43bd-a843-e8a6d69fad82', 'Arrow'),\n",
       " ('7cab9bbc-3d67-4ee7-99ef-fe41991f8a3b', 'Aurora CL'),\n",
       " ('42b72b92-7880-446d-8770-b158e4b0fd10', 'Aurora ES'),\n",
       " ('984283ce-dd5f-4807-a7b0-f6fbf053716c', 'Aurora LN'),\n",
       " ('bb8e3cdf-7f35-4bdb-bc2d-a15b8b859359', 'Aurora LX'),\n",
       " ('c596f592-1196-4378-8583-18ff13962b85', 'Aurora MR'),\n",
       " ('97648869-5fa5-42da-b804-4d9314289539', 'Avenger Stalker'),\n",
       " ('0079c5d5-1678-4f8c-85ba-18ca8f642af6', 'Avenger Titan'),\n",
       " ('d9bc09ce-4c74-4f72-892e-a833c094f4e6', 'Avenger Titan Renegade'),\n",
       " ('9474f571-8467-4d83-b1fe-f64103d363f4', 'Avenger Warlock'),\n",
       " ('a04a1503-ac5c-4520-bc22-4b1a1a198eff', 'Ballista'),\n",
       " ('0d4c5000-ffdb-41f5-9de1-d64252dfef21', 'Blade'),\n",
       " ('efec4d48-77ab-4cba-9add-a3d96c5be8d8', 'Buccaneer'),\n",
       " ('7533ff77-836c-4bd2-9171-487d9c63863c', 'C2 Hercules'),\n",
       " ('20d5f617-147a-4530-a753-a7afd1875fd1', 'C8 Pisces'),\n",
       " ('1bed9058-e284-4c0f-b561-6ba57ab4f99d', 'C8R Pisces'),\n",
       " ('831fdcfc-337a-4350-967d-e693d19efeee', 'C8X Pisces Expedition'),\n",
       " ('f6d606c9-b324-4efa-814f-15a59047a6a5', 'Carrack'),\n",
       " ('f1b224dd-273e-488f-9dee-fbf73f44f462', 'Carrack Expedition'),\n",
       " ('dc39ca6b-1d76-4db5-9346-356f49954978', 'Caterpillar'),\n",
       " ('565d8121-50a9-4920-af50-f176caef0431', 'Caterpillar Pirate Edition'),\n",
       " ('27515ffd-04df-413f-8533-34612d906c7d', 'Centurion'),\n",
       " ('d95fb013-60d5-43ac-ab2d-daa082f45411', 'Constellation Andromeda'),\n",
       " ('e7b40f5c-4099-4aa6-b226-b5b08bd68413', 'Constellation Aquila'),\n",
       " ('ecadf2b2-a404-4776-9289-04af91538d76', 'Constellation Phoenix'),\n",
       " ('daf936a1-689f-4edb-980a-96947e2727c4', 'Constellation Phoenix Emerald'),\n",
       " ('d1c3fa10-b2d9-421e-8301-97dbf4d0c115', 'Constellation Taurus'),\n",
       " ('e1afb014-fe71-4da9-89ae-c30fcf9c0782', 'Corsair'),\n",
       " ('b58f7735-9454-4a0a-b724-2bc8d61961d7', 'Cutlass Black'),\n",
       " ('13c3f610-7bbd-4464-bd36-d716de49a125', 'Cutlass Blue'),\n",
       " ('7780e93d-1cc3-43b4-9b32-9923af19775a', 'Cutlass Red'),\n",
       " ('384d7e27-daec-4554-a8e9-6920a10a86c1', 'Cutlass Steel'),\n",
       " ('3ea9bcd8-1ddd-4714-a537-7b2675e8c2d2', 'Cutter'),\n",
       " ('8dbb42e4-e127-4153-9694-2845142c3e51', 'Cyclone'),\n",
       " ('0194943d-1164-4b5f-a85e-79ebc0ebe621', 'Cyclone AA'),\n",
       " ('bda93768-c01f-40b4-a92e-f31876cd33d0', 'Cyclone MT'),\n",
       " ('064951d7-3dd0-49c2-8b88-d2d7f809633e', 'Cyclone RC'),\n",
       " ('b389839d-fdf9-4c41-850a-4e7461250304', 'Cyclone RN'),\n",
       " ('f80914cf-643e-4b7e-b715-eaf9aa572954', 'Cyclone TR'),\n",
       " ('081236f5-9549-4a60-9123-6ae21f0cd261', 'Defender'),\n",
       " ('37659ff0-a803-4a4f-97ff-ad59822061ed', 'Dragonfly Black'),\n",
       " ('533b9b62-33eb-4b34-95eb-d43fe3e020ff', 'Dragonfly Yellowjacket'),\n",
       " ('c9b3ef78-9c47-4052-bf70-ecf32c55c001', 'Eclipse'),\n",
       " ('26c25ff6-fd3c-48f5-babc-4018ef780031', 'F7A Hornet'),\n",
       " ('933ca746-3c36-470f-8245-a247a3776455', 'F7C Hornet'),\n",
       " ('0af2064a-c02d-4801-a434-09d802ba6573', 'F7C Hornet Wildfire'),\n",
       " ('4f83f89d-480b-4d1b-867a-13772742d828', 'F7C-M Super Hornet'),\n",
       " ('b140e32f-a96b-462f-8c7b-e7243577b2f4', 'F7C-M Super Hornet Heartseeker'),\n",
       " ('95b11c76-31ea-4bf3-9894-fb29caecb927', 'F7C-R Hornet Tracker'),\n",
       " ('63b90c8d-459c-4a27-8cf6-db706ffc49ae', 'F7C-S Hornet Ghost'),\n",
       " ('663b6047-5b06-489c-a906-bc91fb7d6e63', 'F8C Lightning'),\n",
       " ('b67123fd-72b3-43e7-bfb3-069d59ba6190', 'F8C Lightning Executive Edition'),\n",
       " ('b4791030-9d64-4f98-85cb-ca106f868c5e', 'Freelancer'),\n",
       " ('34821163-e32e-42bf-99df-8f42ba66ef34', 'Freelancer DUR'),\n",
       " ('6c6e9731-3d70-4f1b-84c2-9dbf3c1f97c7', 'Freelancer MAX'),\n",
       " ('4b6700e5-38bd-4d8d-9281-ef82996b135f', 'Freelancer MIS'),\n",
       " ('96b11061-68ce-4896-9424-fc8804a410ae', 'Fury'),\n",
       " ('83a450d1-e6b1-437e-9aee-18316ed34c29', 'Fury LX'),\n",
       " ('469d850e-b86b-47fc-9ee2-df81d775ccc8', 'Fury MX'),\n",
       " ('f3f7b2e8-1e11-4649-82c6-3106ec966655', 'Gladiator'),\n",
       " ('b6b59889-7226-458e-a6b0-1c9392128a3c', 'Gladius'),\n",
       " ('d6cb3db3-b1e0-47a5-8c62-a64285dbb675', 'Gladius Valiant'),\n",
       " ('e379e38c-459a-4705-be7d-49a5f5d7a928', 'Glaive'),\n",
       " ('d46f4de1-8dc1-473b-9739-88c9ba7e75a6', 'Hammerhead'),\n",
       " ('c0f1d217-388c-453a-b6c1-3cb5c2cfc4d8', 'Hawk'),\n",
       " ('36726a9f-7e14-4942-bc4f-1a398b5bef6a', 'Herald'),\n",
       " ('16ff4365-ac34-4b09-a132-d52d51f688d4', 'HoverQuad'),\n",
       " ('6ec72f64-2002-481c-b7c9-b132476ba6aa', 'Hull A'),\n",
       " ('c4ceff45-d851-44b1-921b-bfef93a6cd6a', 'Hull C'),\n",
       " ('3a586d52-4829-4504-8e3a-4ee300bb40cc', 'Hurricane'),\n",
       " ('797201fa-ca9a-48b1-abcb-48b6d4d86a37', 'Idris-M'),\n",
       " ('05a4f566-36a4-495c-99a4-dbedc5105cb6', 'Javelin'),\n",
       " ('8f61dc58-74ca-4dc6-aa95-c3105f10bba4', 'Khartu-Al'),\n",
       " ('4c034eef-329c-4336-850e-49bfb1f06a15', 'Lynx'),\n",
       " ('5cf39b3b-41d8-45c1-8ef2-d4678c7a7b85', 'M2 Hercules'),\n",
       " ('1b57cdac-693b-410b-8343-68fa194c94ae', 'M50'),\n",
       " ('43f4f9c3-70ad-4549-8a10-0045afbbda10', 'Mantis'),\n",
       " ('c8e10f09-38a0-4730-9dd3-eb0a510c9e43', 'Mercury'),\n",
       " ('ecdfd0df-6c5f-4183-a24b-9e1546e00a4e', 'MOLE'),\n",
       " ('e19fc6c3-f5fa-4623-9a17-b00a29b71500', 'MPUV Cargo'),\n",
       " ('e17ccf62-f2d2-4c4e-a132-a3000d40fbde', 'MPUV Personnel'),\n",
       " ('fb484074-f33f-4977-a052-2937e8508acc', 'Mule'),\n",
       " ('a852bb00-e395-468f-9adc-78b3df9c82f6', 'Mustang Alpha'),\n",
       " ('439c5671-acad-4eb6-9f09-ba54165d1cb5', 'Mustang Alpha Vindicator'),\n",
       " ('973bc147-4422-48a6-99c8-6ff0ead25bdf', 'Mustang Beta'),\n",
       " ('f8c8fe5c-1aa3-41d7-86b0-6bb54b249541', 'Mustang Delta'),\n",
       " ('968249b2-ca7c-4b41-8f58-730673fefc8c', 'Mustang Gamma'),\n",
       " ('1164be4d-623e-4ef7-bc3d-4cdb45c22ec5', 'Mustang Omega'),\n",
       " ('34506e83-b7b8-4804-a7bb-f31f11bb9214', 'Nomad'),\n",
       " ('b8a352bb-74a8-415b-9e08-77f684ac91b8', 'Nova'),\n",
       " ('daddeefa-fef0-4146-b630-a33d6e8904d3', 'Nox'),\n",
       " ('204a6ce4-1634-4f87-9955-04c70e44c8af', 'Nox Kue'),\n",
       " ('a5a8e4e5-939c-4f7b-ab48-5f7db556d5a4', 'P-52 Merlin'),\n",
       " ('70580bce-2347-4e96-9260-dee6394f483d', 'P-72 Archimedes'),\n",
       " ('ebee8a7f-8e4a-4bed-9e5d-76822724c9f0', 'P-72 Archimedes Emerald'),\n",
       " ('f68ee841-88d1-46f3-a1e2-5dc71d9d5d97', 'Prospector'),\n",
       " ('087b2253-2fc7-4fae-9f9d-97f64b7c43db', 'Prowler'),\n",
       " ('cf9aa91e-15bf-435c-a22d-f2cadc4485ce', 'RAFT'),\n",
       " ('cec2111b-4c71-4968-8035-634de6561cf3', 'Razor'),\n",
       " ('b17ef3ab-9518-40fd-803f-c2468175ccf6', 'Razor EX'),\n",
       " ('203cb135-4f12-4a23-bd53-30910134bac8', 'Razor LX'),\n",
       " ('f05b74b2-06cf-44d0-8607-c09487359384', 'Reclaimer'),\n",
       " ('9a25d006-5706-4c70-9ac6-df795688fe09', 'Redeemer'),\n",
       " ('3c9af040-d919-4afc-b768-45821a5b913c', 'Reliant Kore'),\n",
       " ('c6cfa4d9-e794-4bb6-8da9-54cb779ea109', 'Reliant Mako'),\n",
       " ('e32d125f-a3f8-4bc7-b0e6-cb7edf22b7ac', 'Reliant Sen'),\n",
       " ('c2956880-b82a-42d0-962b-eb736dac1536', 'Reliant Tana'),\n",
       " ('93e1a434-f4fa-43ee-a40c-71bcae5073bc', 'Retaliator Bomber'),\n",
       " ('62e33393-5d68-4191-aba5-3b81ce4f3bf9', 'ROC'),\n",
       " ('14d6ba03-86ad-47f8-b940-e8a82d2d52b6', 'ROC-DS'),\n",
       " ('17276ad3-7636-40b8-969a-877a2b439b37', 'Sabre'),\n",
       " ('9e4b2b2b-1b5a-4d53-84a2-fe6ed1e43172', 'Sabre Comet'),\n",
       " ('34615358-6b8e-4c27-b29e-f936e254e2a3', 'Sabre Raven'),\n",
       " ('edc1421b-59ee-4233-b292-abc2c3ea0a1a', 'Scorpius'),\n",
       " ('2f88be37-7825-4fe1-afae-2ca9d2b01114', 'Scorpius Antares'),\n",
       " ('28f22bb8-9f1c-4a46-9a39-20bcb1e5000e', 'Scythe'),\n",
       " ('9c26b25a-9285-4074-94d1-163db2aa8cbb', 'Spartan'),\n",
       " ('13a02a6d-7d67-4d22-8530-d4d2c8443f66', 'Starfarer'),\n",
       " ('c989caf2-84a5-4c01-b99e-5fc9f8d0ce8e', 'Starfarer Gemini'),\n",
       " ('d4662193-10ab-4912-8ca4-d64ead0e6f3b', 'STV'),\n",
       " ('41a84db8-062b-4359-ad16-611ad540fbdb', 'Talon'),\n",
       " ('2000c8d9-f151-4148-babe-6d9e413e2114', 'Talon Shrike'),\n",
       " ('0920e187-515d-466a-9c6a-a7dde9d2b1bc', 'Terrapin'),\n",
       " ('8c375d7e-0e44-42e8-b84b-c8d6b2e1256c', 'Ursa'),\n",
       " ('953f8277-43a5-4f88-b139-ee997ee5c482', 'Ursa Fortuna'),\n",
       " ('881e3879-a186-44da-8b47-1d8f0a846438', 'Valkyrie'),\n",
       " ('4e62ae95-d173-4b94-8b91-9d85bc963ba1', 'Valkyrie Liberator Edition'),\n",
       " ('34295443-da9b-4e6c-9335-69d5f3b29a88', 'Vanguard Harbinger'),\n",
       " ('f80d39f3-50fc-4fca-ada1-76de4c237e3f', 'Vanguard Hoplite'),\n",
       " ('8aa6a16e-6c06-4db8-ac6d-165f97bf2565', 'Vanguard Sentinel'),\n",
       " ('a8208d11-32d4-4a4a-82c4-fd7f498b2ae6', 'Vanguard Warden'),\n",
       " ('34077e67-5e2c-4903-a17c-2d0e163751c7', 'Vulture')]"
      ]
     },
     "execution_count": 5,
     "metadata": {},
     "output_type": "execute_result"
    }
   ],
   "source": [
    "r"
   ]
  },
  {
   "cell_type": "markdown",
   "metadata": {},
   "source": [
    "## Connect to DB"
   ]
  },
  {
   "cell_type": "code",
   "execution_count": 6,
   "metadata": {},
   "outputs": [],
   "source": [
    "import redis\n",
    "\n",
    "db = redis.Redis(host=\"localhost\", port=6379, db=0, decode_responses=True)"
   ]
  },
  {
   "cell_type": "markdown",
   "metadata": {},
   "source": [
    "## Add each one to DB"
   ]
  },
  {
   "cell_type": "code",
   "execution_count": 7,
   "metadata": {},
   "outputs": [
    {
     "name": "stdout",
     "output_type": "stream",
     "text": [
      "on 13: Error parsing: A2 Hercules: 'children'                                   \n",
      "on 43: Error parsing: Constellation Aquila: 'children'                          \n",
      "on 46: Error parsing: Constellation Taurus: 'item'                              \n",
      "on 63: Error parsing: F7A Hornet: 'zero_to_scm'                                 \n",
      "on 82: Error parsing: Glaive: 'children'                                        \n",
      "on 88: Error parsing: Hull C: 'item'                                            \n",
      "on 91: Error parsing: Javelin: 'children'                                       \n",
      "on 106: Error parsing: Mustang Gamma: 'children'                                \n",
      "on 107: Error parsing: Mustang Omega: 'children'                                \n",
      "on 123: Error parsing: Reliant Kore: 'children'                                 \n",
      "on 124: Error parsing: Reliant Mako: 'children'                                 \n",
      "on 125: Error parsing: Reliant Sen: 'children'                                  \n",
      "on 135: Error parsing: Scythe: 'children'                                       \n",
      "on 140: Error parsing: Talon: 'children'                                        \n",
      "|████████████████████████████████████████| 152/152 [100%] in 4:58.0 (0.51/s)    \n"
     ]
    }
   ],
   "source": [
    "from parse import parse\n",
    "for (uuid, name) in alive_it(r, force_tty=True):\n",
    "    data = requests.get(f\"https://api.star-citizen.wiki/api/v2/{API_NAME}/\" + uuid, params={\"locale\": \"en_EN\", \"include\": \"hardpoints,shops,shops.items\"}).json()[\"data\"]\n",
    "    try:\n",
    "        plaintext = parse(data, FORMAT)\n",
    "        #print(plaintext)\n",
    "    except Exception as e:\n",
    "        print(f\"Error parsing: {name}: {e}\")\n",
    "        continue\n",
    "    db.json().set(f\"docs:{name}\", redis.commands.json.path.Path.root_path(), {\n",
    "        \"title\": name,\n",
    "        \"content\": plaintext,\n",
    "        \"url\": \"example.com\"\n",
    "    })"
   ]
  },
  {
   "cell_type": "markdown",
   "metadata": {},
   "source": [
    "## Do a test query"
   ]
  },
  {
   "cell_type": "code",
   "execution_count": 8,
   "metadata": {},
   "outputs": [],
   "source": [
    "from redis.commands.search.query import Query\n",
    "from json import loads\n",
    "index = db.ft(\"idx:docs\")"
   ]
  },
  {
   "cell_type": "code",
   "execution_count": 11,
   "metadata": {},
   "outputs": [
    {
     "name": "stdout",
     "output_type": "stream",
     "text": [
      "# Ship Stats: C2 Hercules\n",
      "Dimensions: 70m length, 94m width, 23m height\n",
      "Emissions: IR: 12849, EM Idle: 21080, EM Max: 60326\n",
      "Mass: 3139240 kg\n",
      "Cargo capacity: 696 SCU\n",
      "Vehicle Inventory: 672\n",
      "Personal Inventory: 18\n",
      "Crew: Skeleton: 2, Combat: 3\n",
      "Health: 81400\n",
      "Shield HP: 200000 (From shield generator)\n",
      "Speed: SCM: 135 m/s, Max: 963 m/s, 0 to SCM: 2.536 s, 0 to Max: 18.093 s, SCM to 0: 23.963 s, Max to 0: 170.942 s\n",
      "Fuel: Capacity: 13155000L, Intake Rate: 0L/s, Usage: Main: 1526L/s, Maneuvering: 886L/s, Retro: 93L/s, VTOL: 0L/s\n",
      "Quantum: Speed: 59588720km/s, Spool Time: 19.375 s, Fuel Capacity: 88000L, Range: 2277432712215.321 m\n",
      "Agility: Pitch: 28°/s, Yaw: 24°/s, Roll: 80°/s, Acceleration: Main: 53.223 m/s², Retro: 5.633 m/s², VTOL: 18.455 m/s², Maneuvering: 90.323 m/s²\n",
      "Armor: IR: 1, EM: 1, Cross Section: 1\n",
      "Focus: Transport\n",
      "Role: transport\n",
      "Description: Utilizing the patented Hercules military-grade spaceframe and expanding cargo capacity, while sacrificing barely any firepower, the C2 has taken the private sector by storm. It has become the industry standard for racing teams, ship dealers and manufacturers, construction orgs, mining corporations, and even large-scale touring entertainment outfits. \n",
      "Size Number: 5\n",
      "Manufacturer: Crusader Industries (CRUS)\n",
      "Insurance: Claim Time: 32:42m, Expedite Time: 10:54m, Expedite Cost: 17580 aUEC\n",
      "\n",
      "## Components\n",
      "2x Size 3 ThermalCore Coolers (Industrial grade C)\n",
      "1x Size 3 Ginzel Power Plant (Industrial grade C)\n",
      "1x Size 3 Kama Quantum Drive (Industrial grade C)\n",
      "1x Remote Turret with 2x M6A Cannon\n",
      "1x Remote Turret with 2x M6A Cannon\n",
      "2x Size 3 Stronghold Shields (Industrial grade C)\n",
      "2x Gimballed Size 4 M6A Cannons\n",
      "\n",
      "## Buyable at\n",
      "Astro Armada, Area 18 (4,925,500 aUEC)\n",
      "Crusader Showroom, Orison (4,925,500 aUEC)\n",
      "\n",
      "Updated At: 2023-10-20T09:09:32.000000Z\n",
      "Version: 3.21.0-LIVE.8779972\n",
      "Production Status: Flight Ready\n",
      "Size: Large\n",
      "MSRP: $400 USD\n",
      "Loaner Ships: None\n",
      "\n"
     ]
    }
   ],
   "source": [
    "res = index.search(Query('hercules'))\n",
    "print(loads(res.docs[0].json)[\"content\"])"
   ]
  }
 ],
 "metadata": {
  "kernelspec": {
   "display_name": ".venv",
   "language": "python",
   "name": "python3"
  },
  "language_info": {
   "codemirror_mode": {
    "name": "ipython",
    "version": 3
   },
   "file_extension": ".py",
   "mimetype": "text/x-python",
   "name": "python",
   "nbconvert_exporter": "python",
   "pygments_lexer": "ipython3",
   "version": "3.12.0"
  },
  "orig_nbformat": 4
 },
 "nbformat": 4,
 "nbformat_minor": 2
}
