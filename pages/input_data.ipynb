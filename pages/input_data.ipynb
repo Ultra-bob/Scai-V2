{
 "cells": [
  {
   "cell_type": "code",
   "execution_count": 40,
   "metadata": {},
   "outputs": [],
   "source": [
    "import requests\n",
    "from urllib.parse import quote\n",
    "from alive_progress import alive_it"
   ]
  },
  {
   "cell_type": "markdown",
   "metadata": {},
   "source": [
    "## List all pages in category"
   ]
  },
  {
   "cell_type": "code",
   "execution_count": 41,
   "metadata": {},
   "outputs": [],
   "source": [
    "API_NAME = \"weapons\"\n",
    "FORMAT = \"weapon\""
   ]
  },
  {
   "cell_type": "code",
   "execution_count": 42,
   "metadata": {},
   "outputs": [],
   "source": [
    "r = requests.get(f\"https://api.star-citizen.wiki/api/v2/{API_NAME}/?limit=10000&locale=en_EN\").json()[\"data\"]"
   ]
  },
  {
   "cell_type": "code",
   "execution_count": 43,
   "metadata": {},
   "outputs": [],
   "source": [
    "r = [(component[\"uuid\"], component[\"name\"]) for component in r if component[\"name\"] != \"<= PLACEHOLDER =>\" and (component[\"uuid\"] is not None)]"
   ]
  },
  {
   "cell_type": "code",
   "execution_count": 44,
   "metadata": {},
   "outputs": [
    {
     "data": {
      "text/plain": [
       "[('9e8d6cf1-17d6-453e-bfe3-44529969eebf', 'Demon Fang Combat Knife'),\n",
       " ('699db405-4ca1-4993-ba58-a9f90001ae6b', 'Scourge Railgun'),\n",
       " ('517834f4-9343-4aaa-907c-6d911d221936', 'Scourge \"Nightstalker\" Railgun'),\n",
       " ('35e6ac2c-6734-47d7-bc9a-b7e5084dc48e', 'Scourge \"Desert Shadow\" Railgun'),\n",
       " ('3666c8ac-d552-4006-8c47-7e8f773b11a4', 'Animus Missile Launcher'),\n",
       " ('a6688dce-f8c7-4b73-b657-bd1e17f951d3', 'GP-33 MOD Grenade Launcher'),\n",
       " ('5d8e354f-5f52-467a-9546-9c5a981f4257',\n",
       "  'GP-33 MOD \"Thunderclap\" Grenade Launcher'),\n",
       " ('e4a479eb-e58d-4fba-8d48-037af894b7b9',\n",
       "  'GP-33 MOD \"Ashfall\" Grenade Launcher'),\n",
       " ('6a0c7828-4e94-4428-8363-c5431835a040',\n",
       "  'GP-33 MOD \"Copperhead\" Grenade Launcher'),\n",
       " ('46691e82-b633-4d4a-b967-3fce30a0a01c', 'MK-4 Frag Grenade'),\n",
       " ('6f1674b1-fb58-4661-9114-f418862751d2', 'FS-9 LMG'),\n",
       " ('1f3400e1-0aa3-48bf-8595-38f4f4218df9', 'S-38 Pistol'),\n",
       " ('971a5272-a0f1-46a1-aee1-44955fe528e4', 'S-38 \"One Empire\" Pistol'),\n",
       " ('02d4cd2e-fa98-4086-aee1-6b2dfce8ea27', 'P4-AR Rifle'),\n",
       " ('fecebcf2-8706-4f22-94fa-4abd24a70bc4', 'P4-AR \"Nightstalker\" Rifle'),\n",
       " ('992e922f-8c21-41dd-b1b6-c2753c74c97b', 'P4-AR \"Warhawk\" Rifle'),\n",
       " ('bebd2169-fe99-4c8f-8fef-9f6be437e641', 'P4-AR \"Desert Shadow\" Rifle'),\n",
       " ('251ad133-22e6-4ee1-9df0-4c503fb043f9', 'P4-AR \"Boneyard\" Rifle'),\n",
       " ('957822ba-821d-47aa-a2f8-22d5e1321def', 'P8-AR Rifle'),\n",
       " ('70fba024-7de1-4b3e-b169-256a77cc080f', 'BR-2 Shotgun'),\n",
       " ('bc644573-ea0f-4974-b23c-63b24425f639', 'P8-SC SMG'),\n",
       " ('c65903b1-82da-4da8-aed9-ee05a7610fe2', 'P8-SC \"Midnight\" SMG'),\n",
       " ('c28c3a87-80a5-4df0-9faf-f61dcdebb16e', 'P8-SC \"Nightstalker\" SMG'),\n",
       " ('f39aea20-4d89-4525-be69-d6cd336e05e0', 'P8-SC \"Executive Edition\" SMG'),\n",
       " ('0aedfb61-ae31-4eca-98ea-0fb0216513f0', 'P8-SC \"Warhawk\" SMG'),\n",
       " ('1c3b69e0-3162-40ba-afab-f9d48da6b1dc', 'P8-SC \"Desert Shadow\" SMG'),\n",
       " ('ff54216e-eef9-497e-b342-0fe4def2f7fb', 'P8-SC \"Stormfall\" SMG'),\n",
       " ('a52fb950-f3e6-4353-accf-ccb4324a07dd', 'P8-SC \"Boneyard\" SMG'),\n",
       " ('01f2b88a-9752-4cd8-9f73-d151b4b2ca61', 'P6-LR Sniper Rifle'),\n",
       " ('0c95b32a-568e-4ad8-87df-304a4dad67b4', 'Cyan QuikFlarePro'),\n",
       " ('d1672c73-892b-41f5-ae26-4486b780c971', 'Green QuikFlarePro'),\n",
       " ('0a90af88-7ae3-4590-8c5a-ac6cbe2fb67f', 'Orange QuikFlarePro'),\n",
       " ('742670bd-0f9c-4209-a589-598bd9b27caf', 'Pink QuikFlare'),\n",
       " ('96ceb011-ae61-45eb-85c3-21093623b4b8', 'Pink QuikFlare'),\n",
       " ('ae38dde9-256e-4431-8dc7-a6f2ca1e26b5', 'Pink QuikFlare'),\n",
       " ('edbaa6ec-c3f3-45ec-b68d-8ab827dd08dc', 'Red QuikFlarePro'),\n",
       " ('120353d3-4f38-42b1-a491-21ac01d758fa', 'Yellow QuikFlarePro'),\n",
       " ('d52a4cbb-4791-476d-a104-9f21e8d3f855', 'F55 LMG'),\n",
       " ('b15f7736-0010-4c85-b684-85118761d124', 'LH86 Pistol'),\n",
       " ('0ca6f4ee-4f0a-4a28-9546-43b94990d188', 'LH86 \"Nightstalker\" Pistol'),\n",
       " ('4d8d3254-5f17-46e5-a862-5669c442c6a3', 'LH86 \"Voyager\" Pistol'),\n",
       " ('c4242150-6580-4305-9e4f-8fc5379bcb42', 'LH86 \"Executive Edition\" Pistol'),\n",
       " ('e0a377a8-c275-4c88-9885-3746f50caf9e', 'LH86 \"Warhawk\" Pistol'),\n",
       " ('837d0d8b-9bc4-4abc-8f98-12dcb4d6f91f', 'LH86 \"Pathfinder\" Pistol'),\n",
       " ('15beb454-90fb-4492-a06f-44a8eda06949', 'LH86 \"Desert Shadow\" Pistol'),\n",
       " ('b45e8eb9-270a-4266-9f8b-464c9350b235', 'LH86 \"Stormfall\" Pistol'),\n",
       " ('c4289e35-b35d-4357-9cc9-c290e566b388', 'LH86 \"Boneyard\" Pistol'),\n",
       " ('39086302-d8f9-457d-a746-255c511ea6cf', 'S71 Rifle'),\n",
       " ('4577e319-8762-4247-8050-882fabe0ea10', 'R97 Shotgun'),\n",
       " ('8e3e44bd-d289-4a8c-b2e6-289746b02d27', 'C54 SMG'),\n",
       " ('6b1fb5e8-f9ec-49bc-befb-c81b7c08c5ea', 'A03 Sniper Rifle'),\n",
       " ('396ccb0d-c251-484d-998e-cc3616a37ee5', 'Pyro RYT Multi-Tool'),\n",
       " ('3a2dacbb-45ce-419e-b587-b9237b41e373', 'Pyro RYT Multi-Tool'),\n",
       " ('044b2357-9b52-4b77-8829-267ff25d5ab3',\n",
       "  'Pyro RYT \"Black Cherry\" Multi-Tool'),\n",
       " ('81881090-96fb-4962-9528-e75e59451f28', 'Pyro RYT \"Mirage\" Multi-Tool'),\n",
       " ('6b5469c0-8fdb-4062-8e7d-8c59ad324faf', 'Pyro RYT Multi-Tool'),\n",
       " ('505e4ea1-b6ec-4a34-9484-31b0234e8235', 'Pyro RYT Multi-Tool'),\n",
       " ('995ece66-0103-4e5c-bcc1-826827cd6c29', 'Pyro RYT Multi-Tool'),\n",
       " ('f35e3168-edd8-4e3d-a99a-28de49ed4d70', 'Pyro RYT Multi-Tool'),\n",
       " ('dc0b1117-8590-43c7-9c68-7644ed8c89aa', 'Pyro RYT Multi-Tool'),\n",
       " ('5a58baa2-9db8-48b1-9b59-08d556ed88b4', 'Pyro RYT Multi-Tool'),\n",
       " ('7b8a3cc5-7083-4293-97e7-c1b8a26daba5', 'Pyro RYT \"Harvester\" Multi-Tool'),\n",
       " ('921ca4aa-79cb-4039-a877-3d424bb4cbe5', 'Pyro RYT \"Bloodline\" Multi-Tool'),\n",
       " ('38fd0efd-1c7c-4f6f-80d3-acc0cf1841a3', 'Pyro RYT \"Quicksilver\" Multi-Tool'),\n",
       " ('d82df0dd-441d-4fe9-b6af-708eedea3245', 'Pyro RYT \"Ghost\" Multi-Tool'),\n",
       " ('3b6d199f-9eaa-4bcd-b607-398f7f50482c', 'Salvo Frag Pistol'),\n",
       " ('b13a3815-92e7-4e09-962f-b24bcdaf3a42', 'Demeco LMG'),\n",
       " ('0ff9144c-970d-4861-ae27-b27ee3c969a9', 'Arclight Pistol'),\n",
       " ('716624c5-8d5d-4357-8900-65d44197347b', 'Arclight \"Midnight\" Pistol'),\n",
       " ('cdf93f20-7fec-4a8f-a284-09a18a1b8969', 'Arclight \"Nightstalker\" Pistol'),\n",
       " ('ff264701-b252-403c-b265-9f9362efe380', 'Arclight \"Glimmer\" Pistol'),\n",
       " ('1955753f-3472-4f04-ab9e-044af04a22f4',\n",
       "  'Arclight \"Executive Edition\" Pistol'),\n",
       " ('20d6478d-2cf5-4fe7-8f24-4d29e2ae1b88', 'Arclight \"Warhawk\" Pistol'),\n",
       " ('258dda8b-e0f4-4313-8ab1-a25eeea974cf', 'Arclight \"Desert Shadow\" Pistol'),\n",
       " ('d1d33afb-779f-4d4d-977a-5ce26f384cf0', 'Arclight \"Stormfall\" Pistol'),\n",
       " ('5d94d393-8bb2-49dc-aeae-dbd4fb450842', 'Arclight \"Boneyard\" Pistol'),\n",
       " ('8bc41f99-ad80-4050-99ff-958c0b54c973', 'Gallant Rifle'),\n",
       " ('09fd07d6-01f6-45a1-a7d3-bd4d35a076b8', 'Gallant \"Midnight\" Rifle'),\n",
       " ('8c46f63f-5434-4273-a2f3-7500d03d6948', 'Gallant \"Nightstalker\" Rifle'),\n",
       " ('d7fc6971-8061-4cab-bf2e-020a922a43e5', 'Gallant \"Executive Edition\" Rifle'),\n",
       " ('37a17020-c433-4775-acac-725ec28a4a74', 'Gallant \"Warhawk\" Rifle'),\n",
       " ('4f481fd2-8f6e-4c2b-ac19-0d45d79f63db', 'Gallant \"Desert Shadow\" Rifle'),\n",
       " ('0bb6d34b-143e-4632-a72f-9e42ec87d470', 'Gallant \"Stormfall\" Rifle'),\n",
       " ('35bbb045-3b35-47a9-a603-42cce6a804b4', 'Gallant \"Boneyard\" Rifle'),\n",
       " ('75809555-848a-4f4d-81a0-db4457edba2d', 'Lumin V SMG'),\n",
       " ('5ea1071e-2dc7-4c96-8ae7-aa10775a093a', 'Arrowhead Sniper Rifle'),\n",
       " ('2e418f00-1e0f-4870-9392-c9c36c369d0a', 'Arrowhead \"Midnight\" Sniper Rifle'),\n",
       " ('effc4f70-077f-49e3-ad97-53193626aabd',\n",
       "  'Arrowhead \"Nightstalker\" Sniper Rifle'),\n",
       " ('8b266e43-6a55-4fe5-b2d4-21e67d5d9795', 'Arrowhead \"Voyager\" Sniper Rifle'),\n",
       " ('1cb72e0a-59b6-403e-bd96-81a8aab1ab40',\n",
       "  'Arrowhead \"Executive\" Sniper Rifle'),\n",
       " ('cd549fac-17bb-44af-b824-9e81384bd1be', 'Arrowhead \"Warhawk\" Sniper Rifle'),\n",
       " ('f5ad75c2-151d-4d62-96ae-f522e026c1e2',\n",
       "  'Arrowhead \"Pathfinder\" Sniper Rifle'),\n",
       " ('8c351f63-67c2-4f11-9533-4afbb24eac61', 'Arrowhead \"Desert\" Sniper Rifle'),\n",
       " ('a82ee2bb-7eca-4f2c-916c-ce742740089b',\n",
       "  'Arrowhead \"Stormfall\" Sniper Rifle'),\n",
       " ('4d8016a5-fee2-4dc1-a63a-4bb0d2dcd619', 'Arrowhead \"Boneyard\" Sniper Rifle'),\n",
       " ('ea692f4b-0545-4f0b-8d4f-05f41fa1e876', 'Sawtooth Combat Knife'),\n",
       " ('c9c7c287-cf9e-4eff-868a-44082bab9b61', 'Sawtooth \"Squall\" Combat Knife'),\n",
       " ('10ff47bc-9384-4133-a916-e7297cb18711', 'Sawtooth \"Sirocco\" Combat Knife'),\n",
       " ('a3d5ccf0-3ce1-49fc-aef5-e51ae4ca2c59',\n",
       "  'Sawtooth \"Bloodstone\" Combat Knife'),\n",
       " ('b97279f7-b795-4f17-9458-022068edd98f', 'Coda Pistol'),\n",
       " ('3825f6fa-bfcd-4ced-b207-47c2643a2258', 'Karna Rifle'),\n",
       " ('3ec76bc1-de5a-44f8-8469-783ec803d89d', 'Ravager-212 Twin Shotgun'),\n",
       " ('e5b42569-10da-40a5-a16f-497f5b84cf3c', 'Devastator Shotgun'),\n",
       " ('9752372c-6e3f-46f5-9cd8-6d3c64561097', 'Devastator \"Midnight\" Shotgun'),\n",
       " ('991d151a-4c5d-4976-acd4-228fdc36a4a3', 'Devastator \"Nightstalker\" Shotgun'),\n",
       " ('dad885fd-d3e7-442f-b511-a11bfde19a2f', 'Devastator \"Voyager\" Shotgun'),\n",
       " ('4d1c4182-f460-4009-84e4-1df97d3f0547',\n",
       "  'Devastator \"Executive Edition\" Shotgun'),\n",
       " ('4432aa90-a96c-4e93-ab6b-ea1634e39164', 'Devastator \"Warhawk\" Shotgun'),\n",
       " ('1a929345-8ecb-4489-af43-152378e5fd06', 'Devastator \"Pathfinder\" Shotgun'),\n",
       " ('76a46ad5-0232-417a-94c2-5fdbba94385f',\n",
       "  'Devastator \"Desert Shadow\" Shotgun'),\n",
       " ('5accfcef-7e4b-4ccf-a92e-782b40ea8a05', 'Devastator \"Boneyard\" Shotgun'),\n",
       " ('71ffee18-c359-4809-a4d0-3cb79bc32d30', 'Custodian SMG'),\n",
       " ('00d29b14-baf9-496b-8f46-d9a139446e3d', 'Custodian \"Midnight\" SMG'),\n",
       " ('dba2eef6-a4eb-4021-befc-d67d0ad19f35', 'Custodian \"Nightstalker\" SMG'),\n",
       " ('4fd568b4-8e53-48f9-bb74-bfee408909dd', 'Custodian \"CitizenCon 2947\" SMG'),\n",
       " ('dee0596c-b07a-4b16-bc2e-c7d550b3ff99', 'Custodian \"Foundry\\'s Fire\" SMG'),\n",
       " ('57d2c022-6489-4565-9661-9db82c1a3ef9', 'Custodian \"Citizen\\'s Pride\" SMG'),\n",
       " ('12d0e35b-c357-4893-af64-46543e483676', 'Custodian \"Executive Edition\" SMG'),\n",
       " ('ea52b726-ce0e-43f2-8e97-02dd578d4cf1', 'Custodian \"Warhawk\" SMG'),\n",
       " ('eb2d231f-cbdb-4342-b60b-1ce448b7fbc8', 'Custodian \"Desert Shadow\" SMG'),\n",
       " ('57b40b0c-90da-40c5-ba9d-07aec1a8e595', 'Custodian \"Boneyard\" SMG'),\n",
       " ('bab1362b-0860-4a52-ad5b-dfb63d12f651', 'Scalpel Sniper Rifle'),\n",
       " ('959520d7-d83d-45b7-9e7a-f6d057494736', 'Yubarev Pistol'),\n",
       " ('19e3192c-60a3-44ba-816c-625dd6729379', 'Yubarev \"Venom\" Pistol'),\n",
       " ('f9678f5a-3aee-4355-96fe-8bb78f49df83', 'Yubarev \"Mirage\" Pistol'),\n",
       " ('1874f421-36cc-4993-969a-b7c374b6f07a', 'Yubarev \"Igniter\" Pistol'),\n",
       " ('2ee12457-8ec8-4984-a06b-bafa8d11ae5a', 'Yubarev \"Deadeye\" Pistol'),\n",
       " ('7623e7fa-3be9-4e9d-891c-597482c448b5', 'Atzkav Sniper Rifle'),\n",
       " ('fc4903e4-7e46-44d8-a20d-3db7e0062e26', 'Atzkav \"Venom\" Sniper Rifle'),\n",
       " ('e5d03198-b83c-4da2-b51e-f7d5337be50e', 'Atzkav \"Mirage\" Sniper Rifle'),\n",
       " ('0563ba71-7903-46f7-ae55-87f108c56c46', 'Atzkav \"Igniter\" Sniper Rifle'),\n",
       " ('6ab71d2c-e0a4-4875-92a1-6cf90b746532', 'Atzkav \"Deadeye\" Sniper Rifle'),\n",
       " ('31ef8e9c-1add-414a-87d0-07a38d923ac8', 'Prison Shiv'),\n",
       " ('413242d8-ce09-4eb7-88d4-9841139ade80', 'WowBlast Desperado Toy Pistol Red'),\n",
       " ('44d3347d-4d42-4571-8ca8-0e24afd88ca7',\n",
       "  'WowBlast Desperado Toy Pistol Teal'),\n",
       " ('32c131f6-e2d2-4651-bc4f-ff2706c367d8',\n",
       "  'WowBlast Desperado Toy Pistol Blue'),\n",
       " ('75be95dc-3679-458a-b41f-728b8422fdc4',\n",
       "  'WowBlast Desperado Toy Pistol Orange'),\n",
       " ('ae971a42-063d-4ce2-9194-e6825d6155c5', 'Kahix Missile Launcher'),\n",
       " ('04e84f78-fc3d-4d7e-a678-25e463bfde4f', 'FSK-8 Combat Knife'),\n",
       " ('4534b4a3-6427-490a-a557-9e7a8114c3e9', 'FSK-8 \"Mirage\" Combat Knife'),\n",
       " ('089c5d5f-c3ea-456d-a35f-72bed985dbaf', 'FSK-8 \"Ghost\" Combat Knife'),\n",
       " ('9b3ca883-cb09-4124-88af-8e767ca18249', 'FSK-8 \"Bloodline\" Combat Knife'),\n",
       " ('4a71453d-f773-4a5f-bf7e-49a25fdaae3f', 'MK-4 Frag Grenade'),\n",
       " ('c5f73e29-47ab-49dd-a571-9d3280d938c8', 'Njakte Knife'),\n",
       " ('ee6a1e19-269b-42d6-9449-12e833316b2d', 'P6-LR \"Rime\" Sniper Rifle'),\n",
       " ('01fd5799-233a-4151-93c8-5977b6be77a3', 'P6-LR \"Archangel\" Sniper Rifle'),\n",
       " ('3ad9e5f0-8c8f-42b4-adc9-fed1435c8d26', 'ParaMed Medical Device'),\n",
       " ('1aad8334-8d0a-4dd1-bcca-bd195bc013a7', 'A03 \"Canuto\" Sniper Rifle'),\n",
       " ('f4f425d2-34d8-4737-ad37-4c5fde1e52cf', 'A03 \"Wildwood\" Sniper Rifle'),\n",
       " ('9257ba8a-e27f-4f6d-9a37-6da4f3955724', 'A03 \"Lodestone\" Sniper Rifle'),\n",
       " ('ac7cfbb6-0617-462f-bcc3-9fa2d5bfe082', 'Pyro RYT Multi-Tool'),\n",
       " ('66d9acb9-fea7-439f-a14c-e25e700df65f', 'TBF-4 \"Balefire\" Combat Knife'),\n",
       " ('7c15996f-cbe1-4328-91d3-d540e267df0c', 'Salvo Saeed Frag Pistol'),\n",
       " ('31c196fd-420b-4417-8aed-46fa9a118d60', 'Salvo Esteban Frag Pistol'),\n",
       " ('bb87b6e9-427b-4698-9a7e-fdb84c30a3fe', 'Arclight \"Herrero\" Pistol'),\n",
       " ('dbba9ded-9920-4956-ac17-547f1f4226ca', 'Myondo Knife'),\n",
       " ('ae624a69-7d45-430e-9d58-134a4f04f85b',\n",
       "  'GP-33 MOD \"Umber\" Grenade Launcher'),\n",
       " ('f0958f10-7c67-4d44-abc4-fdda2959d42f', 'FS-9 \"Evergreen\" LMG'),\n",
       " ('cd5b759f-5d1f-4a70-a47e-4153ad35e495', 'FS-9 \"Stoneface\" LMG'),\n",
       " ('7a81b598-ce83-44e0-88f9-482e528c3747', 'P8-SC \"Red Alert\" SMG'),\n",
       " ('113bff56-11fa-4951-8b32-8a5590f3c830', 'S71 \"Bullseye\" Rifle'),\n",
       " ('1b652f9f-812b-4bb5-827a-aa96f41160ab', 'C54 \"Luminalia\" SMG'),\n",
       " ('89a070b3-4abc-466e-915c-55a6bd2fd441', 'A03 \"Red Alert\" Sniper Rifle'),\n",
       " ('78300945-3145-4747-9b71-893a37152048', 'Demeco \"Red Alert\" LMG'),\n",
       " ('4a1b92d4-103b-42b5-97b1-8dee5479e770', 'Gallant \"Red Alert\" Rifle'),\n",
       " ('acc2a73d-8492-4492-89f4-fb1dacd84fd5',\n",
       "  'Arrowhead \"Lamplighter\" Sniper Rifle'),\n",
       " ('62995c11-4743-40fd-976a-fd3acaf330db', 'Coda \"Nighthawk\" Pistol'),\n",
       " ('ab479579-efda-45e3-b2f5-a08650708cf7',\n",
       "  'Ravager-212 \"Red Alert\" Twin Shotgun'),\n",
       " ('bfd81a96-9369-4430-b057-432eac9512d8',\n",
       "  'Ravager-212 \"Bright Star\" Twin Shotgun'),\n",
       " ('410cc514-6a00-441a-8128-ac11797f844a', 'Pyro RYT Multi-Tool'),\n",
       " ('1ead23f2-70df-4a7b-8c67-39d6d10ff7f5', 'Pambada Knife'),\n",
       " ('d7deee4a-2835-4d44-bfd5-132a0a46181f', 'Zogo Knife'),\n",
       " ('a7317ea4-108f-4d54-85b5-5ef9cc3659d8', 'Myuda Knife'),\n",
       " ('d2e37335-ba9d-429b-9854-b4d93e43e19b', 'Cyan QuikFlarePro'),\n",
       " ('3ac9916b-3670-4a2e-8cbe-435f7676dbc2', 'Green QuikFlarePro'),\n",
       " ('2a3d6a82-b18f-4475-a4f4-85c5b6019ed1', 'Orange QuikFlarePro'),\n",
       " ('3e98c2a9-4edb-4501-ab3d-99c2c54d1d26', 'Red QuikFlarePro'),\n",
       " ('ec6dab4e-a4c2-4e4e-ab23-d9b573bd0b76', 'Yellow QuikFlarePro'),\n",
       " ('1ebc94de-c03d-4eb7-bbd1-980348ee2d6d', 'ParaMed \"Amalgam\" Medical Device'),\n",
       " ('b12c9d52-1304-4dc2-af97-4c2e39c3df4b', 'ParaMed \"Venule\" Medical Device'),\n",
       " ('92ffd3c2-8b71-40fa-be32-997bb41afccd', 'ParaMed \"Oxide\" Medical Device'),\n",
       " ('7bc1586a-5281-4058-aa69-93b6d2be1ced', 'ParaMed \"Xanthic\" Medical Device'),\n",
       " ('27adea05-f94d-4439-872d-b043a631c34f', 'MaxLift Tractor Beam'),\n",
       " ('9c86b8cf-28de-49fc-aded-5b1a5bff2d42', 'FSK-8 Combat Knife'),\n",
       " ('71c3e4fe-226c-47e7-953c-708493db212b', 'FSK-8 \"Bloodline\" Combat Knife'),\n",
       " ('e1704491-defc-4b51-ac66-341f9a157767', 'FSK-8 \"Bloodline\" Combat Knife'),\n",
       " ('7b17e697-ad38-4999-87e4-14f5a6bee3ac', 'Deadrig Shotgun')]"
      ]
     },
     "execution_count": 44,
     "metadata": {},
     "output_type": "execute_result"
    }
   ],
   "source": [
    "r"
   ]
  },
  {
   "cell_type": "markdown",
   "metadata": {},
   "source": [
    "## Connect to DB"
   ]
  },
  {
   "cell_type": "code",
   "execution_count": 45,
   "metadata": {},
   "outputs": [],
   "source": [
    "import redis\n",
    "\n",
    "db = redis.Redis(host=\"localhost\", port=6379, db=0, decode_responses=True)"
   ]
  },
  {
   "cell_type": "markdown",
   "metadata": {},
   "source": [
    "## Add each one to DB"
   ]
  },
  {
   "cell_type": "code",
   "execution_count": 46,
   "metadata": {},
   "outputs": [],
   "source": [
    "DESCRIPTION_PARAMS = {\n",
    "    'action': 'query',\n",
    "    'prop': 'extracts',\n",
    "    'exchars': '1200',\n",
    "    'explaintext': '1',\n",
    "    'format': 'json',\n",
    "    'exintro': '1',\n",
    "    'redirects': '1'\n",
    "}"
   ]
  },
  {
   "cell_type": "code",
   "execution_count": 47,
   "metadata": {},
   "outputs": [],
   "source": [
    "get_description = lambda title: next(iter(requests.get(\"https://starcitizen.tools/api.php\", params=DESCRIPTION_PARAMS | {\"titles\": title}).json()[\"query\"][\"pages\"].values())).get(\"extract\", \"\").strip()"
   ]
  },
  {
   "cell_type": "code",
   "execution_count": 49,
   "metadata": {},
   "outputs": [
    {
     "name": "stdout",
     "output_type": "stream",
     "text": [
      "on 9: Error parsing: MK-4 Frag Grenade: 'personal_weapon' is undefined          \n",
      "on 29: Error parsing: Cyan QuikFlarePro: 'personal_weapon' is undefined         \n",
      "on 30: Error parsing: Green QuikFlarePro: 'personal_weapon' is undefined        \n",
      "on 31: Error parsing: Orange QuikFlarePro: 'personal_weapon' is undefined       \n",
      "on 32: Error parsing: Pink QuikFlare: 'personal_weapon' is undefined            \n",
      "on 35: Error parsing: Red QuikFlarePro: 'personal_weapon' is undefined          \n",
      "on 36: Error parsing: Yellow QuikFlarePro: 'personal_weapon' is undefined       \n",
      "on 142: Error parsing: MK-4 Frag Grenade: 'personal_weapon' is undefined        \n",
      "on 173: Error parsing: Cyan QuikFlarePro: 'personal_weapon' is undefined        \n",
      "on 174: Error parsing: Green QuikFlarePro: 'personal_weapon' is undefined       \n",
      "on 175: Error parsing: Orange QuikFlarePro: 'personal_weapon' is undefined      \n",
      "on 176: Error parsing: Red QuikFlarePro: 'personal_weapon' is undefined         \n",
      "on 177: Error parsing: Yellow QuikFlarePro: 'personal_weapon' is undefined      \n",
      "|████████████████████████████████████████| 187/187 [100%] in 3:15.6 (0.95/s)    \n"
     ]
    }
   ],
   "source": [
    "from parse import parse\n",
    "for (uuid, name) in alive_it(r, force_tty=True):\n",
    "    data = requests.get(f\"https://api.star-citizen.wiki/api/v2/{API_NAME}/\" + uuid, params={\"locale\": \"en_EN\", \"include\": \"shops,shops.items\"}).json()[\"data\"]\n",
    "    try:\n",
    "        plaintext = parse(data, FORMAT)\n",
    "        #print(plaintext)\n",
    "    except Exception as e:\n",
    "        print(f\"Error parsing: {name}: {e}\")\n",
    "        continue\n",
    "    db.json().set(f\"docs:{name}\", redis.commands.json.path.Path.root_path(), {\n",
    "        \"title\": name,\n",
    "        \"content\": plaintext,\n",
    "        \"description\": get_description(name) or data[\"description\"],\n",
    "        \"url\": \"https://starcitizen.tools/\" + quote(name),\n",
    "    })"
   ]
  },
  {
   "cell_type": "markdown",
   "metadata": {},
   "source": [
    "## Do a test query"
   ]
  },
  {
   "cell_type": "code",
   "execution_count": 50,
   "metadata": {},
   "outputs": [],
   "source": [
    "from redis.commands.search.query import Query\n",
    "from json import loads\n",
    "index = db.ft(\"idx:docs\")"
   ]
  },
  {
   "cell_type": "code",
   "execution_count": 51,
   "metadata": {},
   "outputs": [
    {
     "name": "stdout",
     "output_type": "stream",
     "text": [
      "{'title': 'FS-9 LMG', 'content': '# Weapon: FS-9 LMG\\nBehring designed the FS-9 to be an overwhelming battlefield force. This light machine gun features a full auto mode that makes it ideal for laying down covering fire or holding back advancing enemies. The FS-9 is also acclaimed for its ability to maintain accuracy while unleashing sustained fire.\\n\\n## Weapon Stats\\nWeapon Type: Ballistic LMG\\nMagazine: 120 rounds\\nRange: 40 m\\nFire Rate: 800 rpm\\nDamage/Shot: 5.71\\n\\n## Attachments\\nMagazine Slot (Size 1)\\nOptics Slot (Size 1-2)\\nBarrel Slot (Size 2)\\nUnderbarrel Slot (Size 1-3)\\n## Buyable at\\nNot Buyable (loot only)\\n', 'description': \"The FS-9 LMG is a 5-mm light machine gun manufactured by Behring Applied Technology. With an effective range of 40 meters, the FS-9 is designed to be a dominant force on the battlefield. Behring's intention was to create a weapon that could provide overwhelming firepower. The full auto mode of the light machine gun is particularly useful for laying down covering fire or holding back advancing enemies. Additionally, the FS-9 is renowned for its ability to maintain accuracy while unleashing sustained fire, making it a highly effective weapon in combat situations.\", 'url': 'https://starcitizen.tools/FS-9%20LMG'}\n",
      "{'title': 'FS-9 \"Evergreen\" LMG', 'content': '# Weapon: FS-9 \"Evergreen\" LMG\\nBehring designed the FS-9 to be an overwhelming battlefield force. This light machine gun features a full auto mode that makes it ideal for laying down covering fire or holding back advancing enemies. The FS-9 is also acclaimed for its ability to maintain accuracy while unleashing sustained fire. The Evergreen edition embraces the Luminalia spirit by using a tradition holiday color with its vibrant green tint.\\n\\n## Weapon Stats\\nWeapon Type: Ballistic LMG\\nMagazine: 120 rounds\\nRange: 40 m\\nFire Rate: 800 rpm\\nDamage/Shot: 5.71\\n\\n## Attachments\\nMagazine Slot (Size 1)\\nOptics Slot (Size 1-2)\\nBarrel Slot (Size 2)\\nUnderbarrel Slot (Size 1-3)\\n## Buyable at\\nNot Buyable (loot only)\\n', 'description': 'Behring designed the FS-9 to be an overwhelming battlefield force. This light machine gun features a full auto mode that makes it ideal for laying down covering fire or holding back advancing enemies. The FS-9 is also acclaimed for its ability to maintain accuracy while unleashing sustained fire. The Evergreen edition embraces the Luminalia spirit by using a tradition holiday color with its vibrant green tint.', 'url': 'https://starcitizen.tools/FS-9%20%22Evergreen%22%20LMG'}\n",
      "{'title': 'FS-9 \"Stoneface\" LMG', 'content': '# Weapon: FS-9 \"Stoneface\" LMG\\nBehring designed the FS-9 to be an overwhelming battlefield force. This light machine gun features a full auto mode that makes it ideal for laying down covering fire or holding back advancing enemies. The FS-9 is also acclaimed for its ability to maintain accuracy while unleashing sustained fire. This entry in the Legendary Bounty Hunters line had famed tracker Farook \\'Stoneface\\' Norris design a look for his beloved FS-9 LMG featuring striking pops of red against a grey base tint.\\n\\n## Weapon Stats\\nWeapon Type: Ballistic LMG\\nMagazine: 120 rounds\\nRange: 40 m\\nFire Rate: 800 rpm\\nDamage/Shot: 5.71\\n\\n## Attachments\\nMagazine Slot (Size 1)\\nOptics Slot (Size 1-2)\\nBarrel Slot (Size 2)\\nUnderbarrel Slot (Size 1-3)\\n## Buyable at\\nNot Buyable (loot only)\\n', 'description': \"Behring designed the FS-9 to be an overwhelming battlefield force. This light machine gun features a full auto mode that makes it ideal for laying down covering fire or holding back advancing enemies. The FS-9 is also acclaimed for its ability to maintain accuracy while unleashing sustained fire. This entry in the Legendary Bounty Hunters line had famed tracker Farook 'Stoneface' Norris design a look for his beloved FS-9 LMG featuring striking pops of red against a grey base tint.\", 'url': 'https://starcitizen.tools/FS-9%20%22Stoneface%22%20LMG'}\n",
      "# Weapon: FS-9 LMG\n",
      "Behring designed the FS-9 to be an overwhelming battlefield force. This light machine gun features a full auto mode that makes it ideal for laying down covering fire or holding back advancing enemies. The FS-9 is also acclaimed for its ability to maintain accuracy while unleashing sustained fire.\n",
      "\n",
      "## Weapon Stats\n",
      "Weapon Type: Ballistic LMG\n",
      "Magazine: 120 rounds\n",
      "Range: 40 m\n",
      "Fire Rate: 800 rpm\n",
      "Damage/Shot: 5.71\n",
      "\n",
      "## Attachments\n",
      "Magazine Slot (Size 1)\n",
      "Optics Slot (Size 1-2)\n",
      "Barrel Slot (Size 2)\n",
      "Underbarrel Slot (Size 1-3)\n",
      "## Buyable at\n",
      "Not Buyable (loot only)\n",
      "\n"
     ]
    }
   ],
   "source": [
    "res = index.search(Query('fs'))\n",
    "for result in res.docs:\n",
    "    print(loads(result.json))\n",
    "if res.docs:\n",
    "    print(loads(res.docs[0].json)[\"content\"])"
   ]
  },
  {
   "cell_type": "markdown",
   "metadata": {},
   "source": [
    "# Embed Documents"
   ]
  },
  {
   "cell_type": "code",
   "execution_count": 52,
   "metadata": {},
   "outputs": [],
   "source": [
    "import cohere\n",
    "from dotenv import load_dotenv\n",
    "\n",
    "load_dotenv()\n",
    "\n",
    "co = cohere.Client()"
   ]
  },
  {
   "cell_type": "markdown",
   "metadata": {},
   "source": [
    "Get the item descriptions"
   ]
  },
  {
   "cell_type": "code",
   "execution_count": 53,
   "metadata": {},
   "outputs": [],
   "source": [
    "keys = sorted(db.keys(\"docs:*\"))\n",
    "descriptions = db.json().mget(keys, \"$.description\")\n",
    "descriptions = [item for sublist in descriptions for item in sublist]"
   ]
  },
  {
   "cell_type": "markdown",
   "metadata": {},
   "source": [
    "Grab them from cohere (ridiculously fast)"
   ]
  },
  {
   "cell_type": "code",
   "execution_count": 54,
   "metadata": {},
   "outputs": [],
   "source": [
    "doc_embeddings = co.embed(descriptions, input_type=\"search_document\", model=\"embed-english-v3.0\").embeddings"
   ]
  },
  {
   "cell_type": "markdown",
   "metadata": {},
   "source": [
    "Add the embeddings with a pipeline"
   ]
  },
  {
   "cell_type": "code",
   "execution_count": 55,
   "metadata": {},
   "outputs": [
    {
     "data": {
      "text/plain": [
       "True"
      ]
     },
     "execution_count": 55,
     "metadata": {},
     "output_type": "execute_result"
    }
   ],
   "source": [
    "pipeline = db.pipeline()\n",
    "for key, embedding in zip(keys, doc_embeddings):\n",
    "    pipeline.json().set(key, \"$.description_embeddings\", embedding)\n",
    "pipeline.execute()\n",
    "True"
   ]
  },
  {
   "cell_type": "markdown",
   "metadata": {},
   "source": [
    "Run a test query"
   ]
  },
  {
   "cell_type": "code",
   "execution_count": 80,
   "metadata": {},
   "outputs": [],
   "source": [
    "query_emb = co.embed([\"Compare the ships in the 300 series\"], input_type=\"search_query\", model=\"embed-english-v3.0\").embeddings[0]"
   ]
  },
  {
   "cell_type": "code",
   "execution_count": 81,
   "metadata": {},
   "outputs": [],
   "source": [
    "import numpy as np"
   ]
  },
  {
   "cell_type": "code",
   "execution_count": 91,
   "metadata": {},
   "outputs": [
    {
     "name": "stdout",
     "output_type": "stream",
     "text": [
      "Potentially relevant context:\n",
      "\n"
     ]
    },
    {
     "ename": "AttributeError",
     "evalue": "'Document' object has no attribute 'content'",
     "output_type": "error",
     "traceback": [
      "\u001b[0;31m---------------------------------------------------------------------------\u001b[0m",
      "\u001b[0;31mAttributeError\u001b[0m                            Traceback (most recent call last)",
      "\u001b[1;32m/home/ultrablob/Documents/Python Projects/Scai V2/pages/input_data.ipynb Cell 27\u001b[0m line \u001b[0;36m9\n\u001b[1;32m      <a href='vscode-notebook-cell:/home/ultrablob/Documents/Python%20Projects/Scai%20V2/pages/input_data.ipynb#X35sZmlsZQ%3D%3D?line=5'>6</a>\u001b[0m result_docs \u001b[39m=\u001b[39m db\u001b[39m.\u001b[39mft(\u001b[39m\"\u001b[39m\u001b[39midx:docs\u001b[39m\u001b[39m\"\u001b[39m)\u001b[39m.\u001b[39msearch(query, { \u001b[39m'\u001b[39m\u001b[39mquery_vector\u001b[39m\u001b[39m'\u001b[39m: np\u001b[39m.\u001b[39marray(query_emb, dtype\u001b[39m=\u001b[39mnp\u001b[39m.\u001b[39mfloat32)\u001b[39m.\u001b[39mtobytes() })\u001b[39m.\u001b[39mdocs\n\u001b[1;32m      <a href='vscode-notebook-cell:/home/ultrablob/Documents/Python%20Projects/Scai%20V2/pages/input_data.ipynb#X35sZmlsZQ%3D%3D?line=7'>8</a>\u001b[0m \u001b[39mprint\u001b[39m(\u001b[39m\"\u001b[39m\u001b[39mPotentially relevant context:\u001b[39m\u001b[39m\\n\u001b[39;00m\u001b[39m\"\u001b[39m)\n\u001b[0;32m----> <a href='vscode-notebook-cell:/home/ultrablob/Documents/Python%20Projects/Scai%20V2/pages/input_data.ipynb#X35sZmlsZQ%3D%3D?line=8'>9</a>\u001b[0m \u001b[39mprint\u001b[39m(\u001b[39m\"\u001b[39m\u001b[39m\\n\u001b[39;00m\u001b[39m---\u001b[39m\u001b[39m\\n\u001b[39;00m\u001b[39m\\n\u001b[39;00m\u001b[39m\"\u001b[39m\u001b[39m.\u001b[39mjoin([page\u001b[39m.\u001b[39;49mcontent \u001b[39mfor\u001b[39;49;00m page \u001b[39min\u001b[39;49;00m result_docs]))\n",
      "\u001b[1;32m/home/ultrablob/Documents/Python Projects/Scai V2/pages/input_data.ipynb Cell 27\u001b[0m line \u001b[0;36m9\n\u001b[1;32m      <a href='vscode-notebook-cell:/home/ultrablob/Documents/Python%20Projects/Scai%20V2/pages/input_data.ipynb#X35sZmlsZQ%3D%3D?line=5'>6</a>\u001b[0m result_docs \u001b[39m=\u001b[39m db\u001b[39m.\u001b[39mft(\u001b[39m\"\u001b[39m\u001b[39midx:docs\u001b[39m\u001b[39m\"\u001b[39m)\u001b[39m.\u001b[39msearch(query, { \u001b[39m'\u001b[39m\u001b[39mquery_vector\u001b[39m\u001b[39m'\u001b[39m: np\u001b[39m.\u001b[39marray(query_emb, dtype\u001b[39m=\u001b[39mnp\u001b[39m.\u001b[39mfloat32)\u001b[39m.\u001b[39mtobytes() })\u001b[39m.\u001b[39mdocs\n\u001b[1;32m      <a href='vscode-notebook-cell:/home/ultrablob/Documents/Python%20Projects/Scai%20V2/pages/input_data.ipynb#X35sZmlsZQ%3D%3D?line=7'>8</a>\u001b[0m \u001b[39mprint\u001b[39m(\u001b[39m\"\u001b[39m\u001b[39mPotentially relevant context:\u001b[39m\u001b[39m\\n\u001b[39;00m\u001b[39m\"\u001b[39m)\n\u001b[0;32m----> <a href='vscode-notebook-cell:/home/ultrablob/Documents/Python%20Projects/Scai%20V2/pages/input_data.ipynb#X35sZmlsZQ%3D%3D?line=8'>9</a>\u001b[0m \u001b[39mprint\u001b[39m(\u001b[39m\"\u001b[39m\u001b[39m\\n\u001b[39;00m\u001b[39m---\u001b[39m\u001b[39m\\n\u001b[39;00m\u001b[39m\\n\u001b[39;00m\u001b[39m\"\u001b[39m\u001b[39m.\u001b[39mjoin([page\u001b[39m.\u001b[39;49mcontent \u001b[39mfor\u001b[39;00m page \u001b[39min\u001b[39;00m result_docs]))\n",
      "\u001b[0;31mAttributeError\u001b[0m: 'Document' object has no attribute 'content'"
     ]
    }
   ],
   "source": [
    "query = (\n",
    "    Query('(*)=>[KNN 20 @vector $query_vector AS vector_score]')\n",
    "     .sort_by('vector_score')\n",
    "     .dialect(2)\n",
    ")\n",
    "result_docs = db.ft(\"idx:docs\").search(query, { 'query_vector': np.array(query_emb, dtype=np.float32).tobytes() }).docs\n",
    "\n",
    "print(\"Potentially relevant context:\\n\")\n",
    "print(\"\\n---\\n\\n\".join([page.content for page in result_docs]))"
   ]
  },
  {
   "cell_type": "code",
   "execution_count": 93,
   "metadata": {},
   "outputs": [
    {
     "data": {
      "text/plain": [
       "'{\"title\":\"300i\",\"content\":\"# Ship Stats: 300i\\\\nDimensions: 27m length, 17m width, 8m height\\\\nEmissions: IR: 6020, EM Idle: 6252, EM Max: 20643\\\\nMass: 79677 kg\\\\nCargo capacity: 8 SCU\\\\nVehicle Inventory: 8\\\\nPersonal Inventory: 0.65\\\\nCrew: Skeleton: 1, Combat: 0\\\\nHealth: 9650\\\\nShield HP: 3000 (From shield generator)\\\\nSpeed: SCM: 204 m/s, Max: 1188 m/s, 0 to SCM: 2.154 s, 0 to Max: 12.544 s, SCM to 0: 4.902 s, Max to 0: 28.549 s\\\\nFuel: Capacity: 105000L, Intake Rate: 12L/s, Usage: Main: 40L/s, Maneuvering: 48L/s, Retro: 41L/s, VTOL: 0L/s\\\\nQuantum: Speed: 148971800km/s, Spool Time: 5 s, Fuel Capacity: 680L, Range: 69387755102.04082 m\\\\nAgility: Pitch: 45°/s, Yaw: 40°/s, Roll: 150°/s, Acceleration: Main: 94.703 m/s², Retro: 41.611 m/s², VTOL: 0 m/s², Maneuvering: 193.504 m/s²\\\\nArmor: IR: 1, EM: 1, Cross Section: 1\\\\nFocus: Luxury Touring\\\\nRole: multi\\\\nDescription: If you\\'re going to travel the stars... why not do it in style? The 300i is Origin Jumpworks\\' premiere luxury spacecraft. It is a sleek, silver killer that sends as much of a message with its silhouette as it does with its weaponry.\\\\nSize Number: 2\\\\nManufacturer: Origin Jumpworks (ORIG)\\\\nInsurance: Claim Time: 7:46m, Expedite Time: 2:35m, Expedite Cost: 3618 aUEC\\\\n\\\\n## Components\\\\n2x Size 1 ArcticStorm Coolers (Civilian grade C)\\\\n1x Size 1 PowerBolt Power Plant (Civilian grade C)\\\\n1x Size 1 Expedition Quantum Drive (Civilian grade C)\\\\n1x Size 1 Capston Radar (Civilian grade C)\\\\n2x Size 1 WEB Shields (Civilian grade C)\\\\n2x MSD-212 Missile Racks carrying 1 StrikeForce II Missiles each (2 total)\\\\n1x Size 3 SW16BR3 \\\\\"Shredder\\\\\" Repeater\\\\n2x Size 3 M5A Cannons\\\\n\\\\n## Buyable at\\\\nAstro Armada, Area 18 (767,200 aUEC)\\\\nTraveler Rentals, Area 18 (767,200 aUEC)\\\\nTraveler Rentals, Orison (767,200 aUEC)\\\\nRegal Luxury Rentals, New Babbage (767,200 aUEC)\\\\n\\\\nUpdated At: 2023-06-16T14:36:15.000000Z\\\\nVersion: 3.21.0-LIVE.8779972\\\\nProduction Status: Flight Ready\\\\nProduction Note: Rework complete (3.5.0)\\\\nSize: Small\\\\nMSRP: $60 USD\\\\nLoaner Ships: None\\\\n\",\"description\":\"The Origin 300i is a luxury single-seater starter ship that is capable of filling almost any role in the galaxy. It is the base model of the 300 series.\",\"url\":\"https://starcitizen.tools/300i\",\"description_embeddings\":[-0.0317688,-0.03164673,-0.017410278,0.03643799,-0.04724121,-0.011367798,0.008003235,-0.00075912476,0.017944336,0.018234253,-0.047912598,-0.010543823,0.011436462,-0.0102005005,-0.006893158,-0.029464722,0.035949707,-0.0026283264,0.012306213,-0.017684937,0.016281128,-0.0012645721,-0.009132385,0.13122559,0.021514893,0.026748657,-0.06021118,0.030334473,-0.010726929,-0.011268616,-0.0030670166,0.0050582886,-0.009437561,-0.012908936,0.05847168,0.005092621,0.01071167,0.0050697327,0.03778076,-0.023605347,-0.0012559891,-0.0033836365,-0.0143585205,-0.01007843,-0.025253296,-0.032928467,0.011390686,-0.025665283,0.015701294,0.02053833,0.00059843063,0.022491455,-0.0056419373,-0.014808655,0.0007634163,0.01449585,-0.020446777,-0.023391724,-0.0007572174,-0.030288696,0.011924744,-0.009391785,0.0546875,0.055847168,0.0112838745,-0.032562256,0.009155273,0.024154663,0.023849487,0.036743164,0.048980713,0.016647339,0.01776123,0.023071289,-0.013969421,-0.038970947,0.011909485,0.016738892,0.035980225,0.019439697,-0.0036735535,-0.0259552,-0.012527466,-0.007118225,-0.0104904175,0.014282227,-0.015098572,-0.0019321442,0.018127441,0.014289856,0.0033187866,-0.027709961,0.07128906,0.013931274,-0.013504028,-0.03866577,-0.010551453,-0.037353516,0.023788452,0.020492554,0.04550171,-0.059753418,0.06335449,-0.00881958,0.00019109249,0.020111084,0.030136108,0.012283325,0.042633057,0.0045776367,-0.0060539246,0.06921387,0.013671875,0.017471313,-0.02041626,-0.0579834,-0.044281006,0.037994385,-0.003929138,-0.006549835,-0.016296387,0.0007390976,0.00049829483,-0.011886597,0.03479004,0.040252686,-0.007232666,-0.026519775,-0.0016117096,-0.020706177,-0.044433594,0.044311523,0.04989624,-0.015731812,-0.018173218,-0.0047454834,0.051940918,0.016204834,0.033325195,-0.03552246,0.120910645,-0.01802063,-0.03677368,0.08880615,-0.024139404,-0.014823914,0.03274536,0.04031372,-0.04800415,-0.004497528,0.000119924545,0.054779053,0.026977539,-0.006099701,-0.023284912,0.029800415,-0.042877197,0.032836914,-0.042938232,0.015556335,0.00699234,-0.033172607,-0.0046920776,0.015991211,-0.030426025,0.057128906,-0.027359009,-0.00806427,0.010391235,0.016342163,-0.019851685,-0.023757935,-0.013877869,0.014221191,-0.0028953552,0.045135498,-0.04638672,-0.046722412,0.0473938,0.0031089783,-0.022491455,-0.036956787,-0.032318115,0.036315918,-0.006549835,0.04373169,-0.014190674,-0.002456665,0.009757996,-0.015449524,-0.027175903,0.029220581,-0.0043182373,-0.034118652,0.00573349,-0.04095459,-0.041259766,-0.034301758,-0.00315094,0.03894043,0.032318115,-0.030578613,-0.0206604,-0.030517578,-0.03753662,-0.0769043,0.0057907104,-0.008392334,-0.0048980713,0.029678345,0.025497437,0.022445679,-0.021362305,-0.04446411,-0.041503906,-0.01550293,0.019180298,0.0041656494,0.03591919,-0.017807007,0.03744507,-0.0151901245,-0.013328552,-0.017364502,0.021484375,-0.024719238,0.04574585,-0.00868988,0.10675049,-0.005554199,0.095947266,-0.05822754,0.015258789,-0.023880005,-0.036956787,0.019500732,0.053253174,0.018936157,-0.012969971,0.007881165,-0.001832962,-0.013671875,-0.013999939,0.024734497,-0.022445679,-0.035949707,-0.0023498535,0.01878357,-0.009811401,-0.007820129,0.027404785,-0.01612854,0.021194458,0.004753113,-0.014846802,0.010887146,-0.0059280396,-0.007385254,-0.030029297,0.036224365,0.007511139,0.07147217,0.015731812,0.027755737,-0.0029754639,0.035095215,0.023361206,0.0413208,-0.050994873,0.006652832,0.023254395,0.097595215,0.0018634796,0.07281494,0.007144928,-0.037017822,0.007118225,-0.022537231,-0.03225708,-0.0066108704,-0.005619049,0.04269409,-0.002418518,-0.02357483,0.0013513565,0.0014028549,-0.019348145,-0.055603027,-0.022888184,-0.030395508,0.029083252,-0.0335083,-0.015258789,-0.06149292,0.024017334,-0.037261963,0.005844116,0.021270752,-0.016067505,-0.029220581,-0.006767273,0.014984131,-0.015304565,-0.022277832,0.00071907043,0.004611969,0.020980835,-0.023986816,-0.010635376,0.00039625168,-0.020935059,0.015022278,0.036865234,-0.029037476,0.05050659,0.03149414,-0.007801056,0.047943115,0.029251099,0.027160645,0.005771637,-0.027816772,-0.008834839,-0.038757324,-0.013618469,0.027420044,-0.06555176,-0.0052223206,0.08026123,-0.012001038,-0.017211914,0.028930664,-0.041107178,-0.024261475,0.011108398,-0.015007019,0.0037174225,-0.0065574646,-0.0345459,-0.022598267,-0.036376953,-0.013397217,0.005935669,-0.051086426,-0.0039596558,-0.040618896,0.0026760101,-0.005050659,0.026626587,0.010856628,0.0009860992,0.019958496,-0.036010742,-0.033721924,-0.00015795231,-0.023910522,0.04309082,0.022918701,0.0024490356,-0.030471802,0.0023269653,0.05026245,-0.007347107,-0.008880615,-0.009094238,-0.057617188,0.0027694702,-0.007774353,0.0014343262,0.0075531006,0.02142334,-0.0049438477,-0.05407715,-0.009300232,-0.0040283203,0.0118255615,0.01335144,-0.044708252,-0.023422241,-0.022857666,-0.008651733,0.006160736,-0.02154541,-0.005077362,-0.04006958,0.032348633,-0.08654785,-0.010063171,-0.036621094,0.0006828308,-0.02998352,0.045043945,-0.0040397644,0.0039100647,0.020553589,-0.011932373,-0.023986816,0.022338867,-0.097595215,0.00995636,-0.015220642,0.004512787,0.006515503,-0.015777588,-0.034454346,0.03994751,-0.007926941,-0.008720398,0.006454468,0.017913818,-0.0022201538,0.0045166016,0.014862061,-0.01260376,0.009132385,-0.025024414,-0.015808105,-0.009002686,0.022094727,0.020431519,-0.044799805,0.06585693,-0.021209717,0.026016235,0.019927979,0.0413208,0.008148193,-0.0071640015,0.03668213,-0.034484863,0.013542175,-0.040893555,-0.006095886,-0.034973145,0.010238647,0.006175995,-0.015670776,-0.016479492,-0.030731201,-0.013084412,0.039093018,-0.013252258,0.03479004,0.05935669,-0.011459351,0.04156494,-0.015014648,0.023010254,-0.054870605,-0.039642334,-0.006542206,0.039031982,-0.02368164,0.037384033,0.015434265,0.040771484,0.0056610107,0.009780884,0.01612854,0.015037537,0.025817871,0.023910522,-0.055877686,-0.021377563,0.0024318695,0.0034275055,-0.007751465,0.012916565,-0.0061302185,-0.007648468,0.0016775131,0.04815674,-0.023910522,-0.019073486,-0.0075187683,-0.014389038,0.032684326,0.0029029846,0.027816772,-0.028152466,-0.012016296,-0.0054855347,0.026000977,0.0033073425,0.026260376,-0.00095939636,-0.017120361,-0.004184723,-0.008460999,0.08850098,0.10064697,-0.010986328,0.044830322,0.044158936,-0.0524292,-0.0068511963,0.0006670952,-0.022644043,-0.0045928955,0.017227173,-0.042144775,0.00970459,0.014884949,0.017745972,-0.024261475,0.009933472,-0.009933472,-0.0052871704,0.036712646,-0.022720337,-0.024307251,-0.018692017,0.08648682,0.031082153,-0.02305603,-0.0113220215,-0.057495117,-0.00034999847,-0.06262207,0.016723633,-0.016098022,0.020599365,0.013374329,0.0010786057,-0.01638794,0.008514404,-0.0003259182,0.060058594,-0.029174805,-0.04006958,0.031799316,0.060333252,-0.045440674,-0.011039734,0.0031852722,-0.018188477,-0.019958496,0.0079422,-0.004196167,-0.033172607,-0.0022258759,0.029205322,0.006626129,0.0030498505,-0.027435303,-0.011932373,-0.033996582,0.015258789,0.0062675476,-0.012702942,-0.0018806458,-0.0041046143,-0.002811432,-0.05029297,-0.031402588,-0.02017212,0.031707764,-0.026473999,0.012245178,0.008995056,-0.010894775,0.03050232,0.000808239,-0.017150879,-0.04421997,0.033416748,-0.012413025,-0.019104004,0.035064697,-0.009086609,-0.018951416,-0.015396118,0.030761719,-0.034210205,0.027694702,-0.047088623,-0.014945984,0.0070495605,0.018356323,0.017471313,0.008766174,0.0028858185,-0.01914978,-0.039245605,-0.02760315,0.022872925,0.007881165,0.020950317,-0.0075416565,0.005970001,0.018081665,-0.024719238,-0.03503418,-0.043548584,0.064941406,0.018447876,0.06390381,-0.019927979,-0.007209778,0.039764404,0.0317688,-0.009880066,-0.007209778,-0.007820129,0.0039787292,-0.04562378,0.00032639503,-0.005039215,0.0031414032,0.017120361,-0.0070114136,0.038330078,-0.07495117,-0.00724411,-0.046844482,0.010932922,-0.021743774,0.03503418,0.08703613,-0.010650635,0.016113281,0.04043579,-0.010536194,0.0004491806,0.058166504,-0.06188965,-0.0067253113,-0.03050232,-0.014511108,-0.014404297,-0.06945801,-0.008346558,-0.019592285,-0.057891846,-0.018737793,0.017074585,-0.015808105,-0.05496216,0.014678955,0.06518555,-0.011039734,0.0129470825,-0.051849365,0.025009155,0.015960693,-0.0012741089,-0.0059394836,-0.043670654,-0.012130737,-0.0049858093,-0.023422241,0.00011974573,-0.0368042,0.025360107,0.008758545,0.007827759,-0.037017822,-0.0031375885,0.042266846,-0.013725281,-0.04296875,0.06390381,-0.032592773,0.039093018,0.016937256,0.025558472,-0.024459839,-0.010406494,-0.00078201294,-0.0061531067,-0.032836914,-0.034606934,-0.0073013306,-0.06036377,-0.0029525757,-0.023757935,-0.03111267,0.019729614,0.00919342,-0.0670166,0.007293701,-0.07910156,-0.036315918,0.0039024353,-0.0038661957,-0.013938904,-0.0018377304,0.039978027,-0.00283432,0.079589844,-0.02809143,0.00044345856,0.028945923,0.0018186569,-0.037628174,0.0036296844,-0.0082092285,-0.029006958,0.013824463,-0.010292053,-0.0035305023,-0.001996994,0.0181427,-0.0039978027,0.027648926,0.042510986,-0.01360321,-0.033691406,0.005695343,0.009559631,-0.0054359436,0.019454956,0.006603241,-0.002155304,0.019515991,-0.008644104,0.01977539,0.020019531,-0.029327393,0.004951477,0.0012454987,0.009346008,0.05807495,0.013786316,0.042297363,0.0038013458,-0.026275635,0.002948761,0.014663696,0.022903442,-0.00062704086,0.02558899,-0.0004711151,-0.021270752,0.009895325,-0.017410278,-0.0025672913,0.0027599335,-0.03704834,0.054901123,0.029632568,-0.01071167,0.029724121,-0.024368286,-0.030899048,-0.0014781952,-0.00030231476,-0.085754395,0.018585205,-0.006893158,0.053222656,-0.028747559,-0.029266357,-0.010643005,0.016952515,-0.011474609,-0.053497314,0.0022716522,-0.03137207,0.025039673,-0.061309814,-0.0056610107,0.03515625,0.04373169,0.02558899,0.050598145,-0.008224487,0.04309082,-0.00041222572,0.0435791,0.007637024,0.008956909,-0.0016851425,0.03152466,-0.06744385,0.06311035,0.03744507,-0.00034451485,0.01600647,-0.030136108,-0.061035156,-0.00033903122,-0.05014038,0.030166626,-0.043670654,0.011871338,0.06402588,0.039733887,-0.027053833,0.06573486,0.072509766,0.020614624,0.054138184,-0.012458801,0.010978699,0.020599365,0.040252686,0.021102905,0.014877319,0.008331299,0.0015907288,-0.045318604,0.047424316,0.014129639,0.006877899,0.0004093647,-0.021621704,0.044006348,0.016799927,-0.037475586,0.02128601,-0.07757568,-0.05645752,-0.03845215,0.02229309,0.00491333,0.018203735,-0.0038013458,-0.031799316,-0.02432251,-0.004436493,0.023117065,0.030075073,0.009689331,0.010688782,-0.0033855438,0.009025574,-0.013404846,0.0105896,0.0035533905,0.0049591064,0.0062561035,0.0012044907,0.015670776,0.031143188,0.018615723,-0.0067749023,-0.039031982,0.010879517,0.0062179565,0.009483337,0.025421143,-0.01184845,-0.00030231476,0.0049705505,0.004360199,0.039001465,-0.009941101,-0.041778564,-0.012535095,0.048828125,-0.030899048,0.022125244,-0.041656494,0.028884888,-0.03189087,-0.005420685,-0.02720642,0.018814087,0.056640625,-0.019378662,0.015167236,-0.037506104,0.0021419525,-0.027053833,0.051605225,-0.030395508,-0.016403198,0.029754639,-0.01966858,0.024398804,0.09259033,-0.08569336,0.043029785,0.0018672943,-0.0008368492,0.02456665,0.07745361,0.03475952,-0.00806427,0.05908203,0.04309082,0.027938843,-0.07171631,-0.018341064,0.091796875,0.0049057007,0.018539429,0.009162903,0.0066947937,0.005886078,-0.0054016113,0.020111084,0.027801514,0.018173218,0.03201294,0.015716553,-0.032196045,-0.04159546,-0.013183594,-0.00004541874,-0.016937256,0.048339844,-0.06744385,0.033325195,-0.00039744377,-0.009223938,-0.09082031,-0.044189453,-0.019058228,0.03656006,-0.028640747,-0.008346558,0.0087509155,0.028747559,0.062927246,-0.021835327,-0.019927979,0.028274536,-0.07104492,-0.024307251,-0.035858154,0.040985107,-0.04788208,-0.018737793,0.06210327,-0.036376953,-0.036865234,0.0027637482,0.00006347895,-0.0036964417,-0.029342651,-0.027145386,0.0023670197,0.023239136,-0.026306152,0.01625061,0.02810669,-0.014312744,-0.028381348,-0.009941101,-0.020385742,0.038208008,0.013198853,0.0044898987,0.034606934,0.012954712,-0.016021729,-0.05053711,0.0020065308,-0.008865356,0.045043945,0.015449524,-0.019500732,0.017684937,0.020126343,-0.052368164,-0.004917145,-0.004245758,-0.0021476746,0.0055007935,-0.054260254,0.03366089,-0.034454346,-0.07385254,-0.01713562,-0.043304443,0.013145447,0.032104492,0.013465881,0.019866943,-0.005722046,-0.014297485,0.0023231506,-0.0073776245,-0.03665161,-0.007080078,0.06524658,-0.015899658,0.0317688,0.02394104,0.053741455,-0.039398193,0.017333984,-0.03866577,-0.02734375,0.00687027,-0.0060424805,-0.021148682,0.010635376,-0.031280518,0.06665039,-0.00504303,-0.021102905,-0.009536743,0.033111572,-0.00086164474,0.06994629,-0.019470215,-0.02015686,-0.025817871,0.047821045,0.04901123,0.083984375,-0.07513428,0.011894226,0.03640747,-0.084228516,-0.02279663,0.027053833,-0.032440186,0.057250977,-0.037322998,0.022598267,-0.021896362,0.007980347,0.017791748,-0.011306763,-0.015533447,0.021484375,-0.010154724,0.01890564,-0.042114258,0.0029201508]}'"
      ]
     },
     "execution_count": 93,
     "metadata": {},
     "output_type": "execute_result"
    }
   ],
   "source": [
    "result_docs[0].json"
   ]
  },
  {
   "cell_type": "code",
   "execution_count": 83,
   "metadata": {},
   "outputs": [
    {
     "name": "stdout",
     "output_type": "stream",
     "text": [
      "0.465593218803\n",
      "0.485395491123\n",
      "0.536980688572\n",
      "0.538796007633\n",
      "0.592752993107\n",
      "0.599588036537\n",
      "0.63577067852\n",
      "0.636471867561\n",
      "0.636471867561\n",
      "0.638890087605\n"
     ]
    }
   ],
   "source": [
    "print(\"\\n\".join([r.vector_score for r in result_docs]))"
   ]
  }
 ],
 "metadata": {
  "kernelspec": {
   "display_name": ".venv",
   "language": "python",
   "name": "python3"
  },
  "language_info": {
   "codemirror_mode": {
    "name": "ipython",
    "version": 3
   },
   "file_extension": ".py",
   "mimetype": "text/x-python",
   "name": "python",
   "nbconvert_exporter": "python",
   "pygments_lexer": "ipython3",
   "version": "3.11.5"
  },
  "orig_nbformat": 4
 },
 "nbformat": 4,
 "nbformat_minor": 2
}
