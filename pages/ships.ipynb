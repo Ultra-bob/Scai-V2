{
 "cells": [
  {
   "cell_type": "code",
   "execution_count": 1,
   "metadata": {},
   "outputs": [],
   "source": [
    "import requests\n",
    "from urllib.parse import quote\n",
    "from parse import parse_ship"
   ]
  },
  {
   "cell_type": "code",
   "execution_count": 2,
   "metadata": {},
   "outputs": [],
   "source": [
    "ship = \"c0b86c69-55ac-4af3-a722-d46282813e91\""
   ]
  },
  {
   "cell_type": "code",
   "execution_count": 3,
   "metadata": {},
   "outputs": [],
   "source": [
    "data = requests.get(\n",
    "    f\"https://api.star-citizen.wiki/api/v2/vehicles/{ship}\",\n",
    "    params={\n",
    "        \"locale\": \"en_EN\",\n",
    "        \"include\": \"components,hardpoints,shops\"\n",
    "    }\n",
    ").json()"
   ]
  },
  {
   "cell_type": "code",
   "execution_count": 4,
   "metadata": {},
   "outputs": [],
   "source": [
    "data = data[\"data\"]"
   ]
  },
  {
   "cell_type": "code",
   "execution_count": 7,
   "metadata": {},
   "outputs": [
    {
     "name": "stdout",
     "output_type": "stream",
     "text": [
      "Unhandled item: ('parts', [{'name': 'body', 'display_name': 'Body', 'damage_max': 16500, 'children': []}, {'name': 'nose', 'display_name': 'Nose', 'damage_max': 13500, 'children': []}, {'name': 'rear', 'display_name': 'Rear', 'damage_max': 11700, 'children': []}, {'name': 'tail_left', 'display_name': 'Tail left', 'damage_max': 1200, 'children': []}, {'name': 'tail_right', 'display_name': 'Tail right', 'damage_max': 1200, 'children': []}, {'name': 'wing_left', 'display_name': 'Wing (left)', 'damage_max': 1050, 'children': []}, {'name': 'wing_right', 'display_name': 'Wing (right)', 'damage_max': 1050, 'children': []}])\n",
      "Unhandled item: ('production_note', 'None')\n",
      "Unhandled item: ('components', [{'type': 'radar', 'name': 'Radar', 'mounts': 1, 'component_size': 'M', 'category': '', 'size': 'M', 'details': '', 'quantity': 1, 'manufacturer': 'TBD', 'component_class': 'RSIAvionic'}, {'type': 'computers', 'name': 'Computer', 'mounts': 1, 'component_size': 'M', 'category': '', 'size': 'M', 'details': '', 'quantity': 1, 'manufacturer': 'TBD', 'component_class': 'RSIAvionic'}, {'type': 'fuel_tanks', 'name': 'Fuel Tank', 'mounts': 1, 'component_size': 'M', 'category': '', 'size': 'M', 'details': '', 'quantity': 1, 'manufacturer': '', 'component_class': 'RSIPropulsion'}, {'type': 'quantum_drives', 'name': 'Quantum Drive', 'mounts': 1, 'component_size': 'M', 'category': '', 'size': 'M', 'details': '', 'quantity': 1, 'manufacturer': 'TBD', 'component_class': 'RSIPropulsion'}, {'type': 'jump_modules', 'name': 'Jump Module', 'mounts': 1, 'component_size': 'TBD', 'category': '', 'size': 'TBD', 'details': '', 'quantity': 1, 'manufacturer': 'TBD', 'component_class': 'RSIPropulsion'}, {'type': 'quantum_fuel_tanks', 'name': 'Hydrogen Fuel Tank', 'mounts': 1, 'component_size': 'M', 'category': '', 'size': 'M', 'details': '', 'quantity': 1, 'manufacturer': '', 'component_class': 'RSIPropulsion'}, {'type': 'maneuvering_thrusters', 'name': 'Retro Thruster', 'mounts': 2, 'component_size': '-', 'category': 'R', 'size': 'TBD', 'details': '', 'quantity': 1, 'manufacturer': '', 'component_class': 'RSIThruster'}, {'type': 'power_plants', 'name': 'Power Plant', 'mounts': 1, 'component_size': 'M', 'category': '', 'size': 'M', 'details': '', 'quantity': 1, 'manufacturer': 'TBD', 'component_class': 'RSIModular'}, {'type': 'coolers', 'name': 'Cooler', 'mounts': 1, 'component_size': 'M', 'category': '', 'size': 'M', 'details': '', 'quantity': 1, 'manufacturer': 'TBD', 'component_class': 'RSIModular'}, {'type': 'shield_generators', 'name': 'Shield Generator', 'mounts': 1, 'component_size': 'M', 'category': '', 'size': 'M', 'details': '', 'quantity': 1, 'manufacturer': 'TBD', 'component_class': 'RSIModular'}, {'type': 'turrets', 'name': 'Rear Remote Turret. Size 2', 'mounts': 1, 'component_size': 'TBD', 'category': '', 'size': '2', 'details': '', 'quantity': 2, 'manufacturer': '', 'component_class': 'RSIWeapon'}, {'type': 'missiles', 'name': 'Bombs TBD, Size 5', 'mounts': 2, 'component_size': '5', 'category': '', 'size': '5', 'details': '', 'quantity': 5, 'manufacturer': '', 'component_class': 'RSIWeapon'}, {'type': 'weapons', 'name': 'Fixed Wing S3 - TBD', 'mounts': 2, 'component_size': '3', 'category': '', 'size': '3', 'details': '', 'quantity': 1, 'manufacturer': 'TBD', 'component_class': 'RSIWeapon'}, {'type': 'maneuvering_thrusters', 'name': 'TBD Main Thruster', 'mounts': 2, 'component_size': 'TBD', 'category': '', 'size': 'TBD', 'details': '', 'quantity': 1, 'manufacturer': '', 'component_class': 'RSIThruster'}, {'type': 'maneuvering_thrusters', 'name': 'Gimbal Maneuvering Thruster', 'mounts': 8, 'component_size': '-', 'category': 'G', 'size': 'TBD', 'details': '', 'quantity': 1, 'manufacturer': '', 'component_class': 'RSIThruster'}, {'type': 'weapons', 'name': 'Nose Gimballed S2 - TBD', 'mounts': 2, 'component_size': '2', 'category': '', 'size': '3', 'details': '', 'quantity': 1, 'manufacturer': '', 'component_class': 'RSIWeapon'}, {'type': 'missiles', 'name': 'Missile TBC', 'mounts': 2, 'component_size': '3', 'category': '', 'size': '4', 'details': '', 'quantity': 2, 'manufacturer': 'TBD', 'component_class': 'RSIWeapon'}])\n"
     ]
    }
   ],
   "source": [
    "output = parse_ship(data)"
   ]
  },
  {
   "cell_type": "code",
   "execution_count": 8,
   "metadata": {},
   "outputs": [
    {
     "name": "stdout",
     "output_type": "stream",
     "text": [
      "# Ship Stats: A1 Spirit\n",
      "Dimensions: 44m length, 47.5m width, 10m height\n",
      "Emissions: IR: 12885, EM Idle: 6388, EM Max: 36900\n",
      "Mass: 314271 kg\n",
      "Cargo capacity: 0 SCU\n",
      "Vehicle Inventory: 8\n",
      "Personal Inventory: 0.4\n",
      "Crew: Skeleton: 2, Combat: 1\n",
      "Health: 46300\n",
      "Shield HP: 9000 (From shield generator)\n",
      "Speed: SCM: 154 m/s, Max: 1120 m/s, 0 to SCM: 1.768 s, 0 to Max: 12.861 s, SCM to 0: 4.841 s, Max to 0: 35.211 s\n",
      "Fuel: Capacity: 687000L, Intake Rate: 30L/s, Usage: Main: 116L/s, Maneuvering: 84L/s, Retro: 300L/s, VTOL: 0L/s\n",
      "Quantum: Speed: 248286300km/s, Spool Time: 2 s, Fuel Capacity: 3750L, Range: 163826998689.384 m\n",
      "Agility: Pitch: 28°/s, Yaw: 28°/s, Roll: 117°/s, Acceleration: Main: 87.079 m/s², Retro: 31.807 m/s², VTOL: 38.183 m/s², Maneuvering: 76.308 m/s²\n",
      "Armor: IR: 1, EM: 1, Cross Section: 1\n",
      "Focus: Bomber\n",
      "Role: combat\n",
      "Description: Crusader Industries brings its usual commitment to excellence directly to the civilian market with the A1 Spirit, a mid-size multi-purpose starship equipped as a light bomber but packing enough versatility to tackle multiple roles and unpredictable jobs.\n",
      "Size Number: 4\n",
      "Manufacturer: Crusader Industries (CRUS)\n",
      "Insurance: Claim Time: 6:45m, Expedite Time: 2:15m, Expedite Cost: 3375 aUEC\n",
      "\n",
      "## Components\n",
      "1x Size 5 MSD-313 Missile Rack Bomb Launcher (None grade None)\n",
      "1x Size 2 Boreal Cooler (Military grade D)\n",
      "2x MSD-423 Missile Racks carrying 2 Arrester III Missiles each (4 total)\n",
      "1x Size 2 UltraFlux Power Plant (Military grade B)\n",
      "1x Size 2 Yeager Quantum Drive (Military grade B)\n",
      "1x Size 2 FullStop Shield (Military grade C)\n",
      "1x Remote Turret with 2x M4A Cannon\n",
      "1x Size 3 Turret Turret (None grade None)\n",
      "2x Size 3 M5A Cannons\n",
      "\n",
      "## Buyable at\n",
      "\n",
      "Updated At: 2023-10-20T09:09:30.000000Z\n",
      "Version: 3.21.0-LIVE.8779972\n",
      "Production Status: In Concept\n",
      "Size: Undefined\n",
      "MSRP: $200 USD\n",
      "Loaner Ships: Freelancer MIS\n",
      "\n"
     ]
    }
   ],
   "source": [
    "print(output)"
   ]
  }
 ],
 "metadata": {
  "kernelspec": {
   "display_name": ".venv",
   "language": "python",
   "name": "python3"
  },
  "language_info": {
   "codemirror_mode": {
    "name": "ipython",
    "version": 3
   },
   "file_extension": ".py",
   "mimetype": "text/x-python",
   "name": "python",
   "nbconvert_exporter": "python",
   "pygments_lexer": "ipython3",
   "version": "3.11.5"
  }
 },
 "nbformat": 4,
 "nbformat_minor": 2
}
