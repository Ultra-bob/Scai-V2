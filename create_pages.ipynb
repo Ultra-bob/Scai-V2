{
 "cells": [
  {
   "cell_type": "code",
   "execution_count": 86,
   "metadata": {},
   "outputs": [],
   "source": [
    "import requests\n",
    "from urllib.parse import quote"
   ]
  },
  {
   "cell_type": "code",
   "execution_count": 87,
   "metadata": {},
   "outputs": [],
   "source": [
    "ship = \"C8X Pisces Expedition\""
   ]
  },
  {
   "cell_type": "code",
   "execution_count": 88,
   "metadata": {},
   "outputs": [],
   "source": [
    "data = requests.get(\n",
    "    f\"https://api.star-citizen.wiki/api/v2/vehicles/{quote(ship)}\",\n",
    "    params={\n",
    "        \"locale\": \"en_EN\",\n",
    "        \"include\": \"components, hardpoints, shops\"\n",
    "    }\n",
    ").json()"
   ]
  },
  {
   "cell_type": "code",
   "execution_count": 89,
   "metadata": {},
   "outputs": [
    {
     "data": {
      "text/plain": [
       "{'code': 404, 'message': 'No Vehicle with specified name found.'}"
      ]
     },
     "execution_count": 89,
     "metadata": {},
     "output_type": "execute_result"
    }
   ],
   "source": [
    "data"
   ]
  },
  {
   "cell_type": "code",
   "execution_count": null,
   "metadata": {},
   "outputs": [],
   "source": [
    "data = data[\"data\"]"
   ]
  },
  {
   "cell_type": "code",
   "execution_count": null,
   "metadata": {},
   "outputs": [
    {
     "name": "stdout",
     "output_type": "stream",
     "text": [
      "Unhandled item: ('parts', [{'name': 'RSI_Constellation_Phoenix', 'display_name': 'Rsi constellation phoenix', 'damage_max': 500, 'children': [{'name': 'neck', 'display_name': 'Neck', 'damage_max': 20000, 'children': [{'name': 'nose', 'display_name': 'Nose', 'damage_max': 20000, 'children': [{'name': 'wing_right', 'display_name': 'Wing (right)', 'damage_max': 15000, 'children': []}, {'name': 'wing_left', 'display_name': 'Wing (left)', 'damage_max': 15000, 'children': []}]}]}, {'name': 'body', 'display_name': 'Body', 'damage_max': 20000, 'children': [{'name': 'misslerack_arm_body_left_arm', 'display_name': 'Misslerack arm body arm (left)', 'damage_max': 1750, 'children': []}, {'name': 'misslerack_arm_body_right_arm', 'display_name': 'Misslerack arm body arm (right)', 'damage_max': 1750, 'children': []}, {'name': 'nacelle_bottom_right', 'display_name': 'Nacelle (bottom right)', 'damage_max': 15000, 'children': []}, {'name': 'nacelle_bottom_left', 'display_name': 'Nacelle (bottom left)', 'damage_max': 15000, 'children': []}, {'name': 'tail', 'display_name': 'Tail', 'damage_max': 20000, 'children': [{'name': 'misslerack_arm_tail_left_arm', 'display_name': 'Misslerack arm arm (tail left)', 'damage_max': 1750, 'children': []}, {'name': 'misslerack_arm_tail_right_arm', 'display_name': 'Misslerack arm arm (tail right)', 'damage_max': 1750, 'children': []}, {'name': 'nacelle_tower_left', 'display_name': 'Nacelle tower (left)', 'damage_max': 1000, 'children': [{'name': 'nacelle_left', 'display_name': 'Nacelle (left)', 'damage_max': 5500, 'children': []}]}, {'name': 'nacelle_tower_right', 'display_name': 'Nacelle tower (right)', 'damage_max': 1000, 'children': [{'name': 'nacelle_right', 'display_name': 'Nacelle (right)', 'damage_max': 5500, 'children': []}]}]}]}]}])\n",
      "Unhandled item: ('production_note', 'None')\n"
     ]
    }
   ],
   "source": [
    "output = \"\"\n",
    "\n",
    "def oprint(text):\n",
    "    global output\n",
    "    output += text + \"\\n\"\n",
    "\n",
    "for item in data.items():\n",
    "    match item:\n",
    "        case \"name\", type_:\n",
    "            oprint(f\"# Ship Stats: {type_}\")\n",
    "        case \"cargo_capacity\", capacity:\n",
    "            oprint(f\"Cargo capacity: {capacity} SCU\")\n",
    "        case \"sizes\", {\"length\": l, \"beam\": w, \"height\": h}:\n",
    "            oprint(f\"Dimensions: {l}m length, {w}m width, {h}m height\")\n",
    "        case \"emission\", emission:\n",
    "            oprint(f\"Emissions: IR: {emission['ir']}, EM Idle: {emission['em_idle']}, EM Max: {emission['em_max']}\")\n",
    "        case \"mass\", mass:\n",
    "            oprint(f\"Mass: {mass} kg\")\n",
    "        case \"vehicle_inventory\", vehicle_inventory:\n",
    "            oprint(f\"Vehicle Inventory: {vehicle_inventory}\")\n",
    "        case \"personal_inventory\", personal_inventory:\n",
    "            oprint(f\"Personal Inventory: {personal_inventory}\")\n",
    "        case \"crew\", crew:\n",
    "            crew_info = f\"Crew: Skeleton: {crew['min']}\"\n",
    "            if crew['max'] is not None:\n",
    "                crew_info += f\", Max: {crew['max']}\"\n",
    "            if crew['weapon'] is not None:\n",
    "                crew_info += f\", Combat: {crew['weapon']}\"\n",
    "            if crew['operation'] is not None:\n",
    "                crew_info += f\", Operation: {crew['operation']}\"\n",
    "            oprint(crew_info)\n",
    "        case \"health\", health:\n",
    "            oprint(f\"Health: {health}\")\n",
    "        case \"shield_hp\", shield_hp:\n",
    "            oprint(f\"Shield HP: {shield_hp} (From shield generator)\")\n",
    "        case \"speed\", speed:\n",
    "            oprint((f\"Speed: SCM: {speed['scm']} m/s, Max: {speed['max']} m/s, \"\n",
    "                       f\"0 to SCM: {speed['zero_to_scm']} s, 0 to Max: {speed['zero_to_max']} s, \"\n",
    "                       f\"SCM to 0: {speed['scm_to_zero']} s, Max to 0: {speed['max_to_zero']} s\"))\n",
    "        case \"fuel\", fuel:\n",
    "            oprint((f\"Fuel: Capacity: {fuel['capacity']}L, Intake Rate: {fuel['intake_rate']}L/s, \"\n",
    "                       f\"Usage: Main: {fuel['usage']['main']}L\\s, Maneuvering: {fuel['usage']['maneuvering']}L\\s, \"\n",
    "                       f\"Retro: {fuel['usage']['retro']}L\\s, VTOL: {fuel['usage']['vtol']}L\\s\"))\n",
    "        case \"quantum\", quantum:\n",
    "            oprint((f\"Quantum: Speed: {quantum['quantum_speed']}km/s, Spool Time: {quantum['quantum_spool_time']} s, \"\n",
    "                       f\"Fuel Capacity: {quantum['quantum_fuel_capacity']}L, Range: {quantum['quantum_range']} m\"))\n",
    "        case \"agility\", agility:\n",
    "            oprint((f\"Agility: Pitch: {agility['pitch']}°/s, Yaw: {agility['yaw']}°/s, Roll: {agility['roll']}°/s, \"\n",
    "                       f\"Acceleration: Main: {agility['acceleration']['main']} m/s², \"\n",
    "                       f\"Retro: {agility['acceleration']['retro']} m/s², \"\n",
    "                       f\"VTOL: {agility['acceleration']['vtol']} m/s², \"\n",
    "                       f\"Maneuvering: {agility['acceleration']['maneuvering']} m/s²\"))\n",
    "        case \"armor\", armor:\n",
    "            oprint(f\"Armor: IR: {armor['signal_infrared']}, EM: {armor['signal_electromagnetic']}, Cross Section: {armor['signal_cross_section']}\")\n",
    "        case \"foci\", [focus]:\n",
    "            oprint(f\"Focus: {focus}\")\n",
    "        case \"foci\", foci:\n",
    "            oprint(f\"Foci: {', '.join(foci)}\")\n",
    "        case \"type\", ship_type:\n",
    "            oprint(f\"Role: {ship_type}\")\n",
    "        case \"description\", description:\n",
    "            oprint(f\"Description: {description}\")\n",
    "        case \"size_class\", size_class:\n",
    "            oprint(f\"Size Number: {size_class}\")\n",
    "        case \"manufacturer\", manufacturer:\n",
    "            oprint(f\"Manufacturer: {manufacturer['name']} ({manufacturer['code']})\")\n",
    "        case \"insurance\", insurance:  \n",
    "            oprint((f\"Insurance: Claim Time: {insurance['claim_time']}m, Expedite Time: {insurance['expedite_time']}m, \"\n",
    "                       f\"Expedite Cost: {insurance['expedite_cost']} aUEC\"))\n",
    "        case \"updated_at\", updated_at:\n",
    "            oprint(f\"Updated At: {updated_at}\")\n",
    "        case \"version\", version:\n",
    "            oprint(f\"Version: {version}\")\n",
    "        case \"production_status\", production_status:\n",
    "            oprint(f\"Production Status: {production_status.replace('-', ' ').title()}\")\n",
    "        case \"production_note\", production_note if production_note != \"None\":\n",
    "            oprint(f\"Production Note: {production_note}\")\n",
    "        case \"size\", size:\n",
    "            oprint(f\"Size: {size.title()}\")\n",
    "        case \"msrp\", msrp:\n",
    "            oprint(f\"MSRP: ${msrp} USD\")\n",
    "        case \"loaner\", loaner:\n",
    "            oprint(f\"Loaner Ships: {', '.join(loaner) if loaner else 'None'}\")\n",
    "        case \"components\", components:\n",
    "            #TODO use the specialized API to get more info\n",
    "            oprint(\"## Components\")\n",
    "            for component in components:\n",
    "                match component:\n",
    "\n",
    "                    case {\"name\": name, \"type\": type_, \"quantity\": qty, \"size\": size, \"manufacturer\": mfr}:\n",
    "                        s = \"\" if qty <= 1 else \"s\"\n",
    "                        type_ = type_.replace('_', ' ').title().rstrip('s')\n",
    "                        oprint(f\"{qty}x {size} {name + ' ' if name != type_ else ''}{type_}{s}\")\n",
    "                    case edge:\n",
    "                        print(edge)\n",
    "\n",
    "        case \"slug\", slug:\n",
    "            # Ignored as it seems unimportant to an end-user\n",
    "            ...\n",
    "        case \"class_name\", class_name:\n",
    "            # Ignored as it seems unimportant to an end-user\n",
    "            ...\n",
    "        case \"uuid\", uuid:\n",
    "            # Ignored as it seems unimportant to an end-user\n",
    "            ...\n",
    "        case \"id\", id:\n",
    "            # Ignored as it seems unimportant to an end-user\n",
    "            ...\n",
    "        case \"chassis_id\", chassis_id:\n",
    "            # Ignored as it seems unimportant to an end-user\n",
    "            ...\n",
    "        case edge:\n",
    "            print(f\"Unhandled item: {edge}\")"
   ]
  },
  {
   "cell_type": "code",
   "execution_count": null,
   "metadata": {},
   "outputs": [
    {
     "name": "stdout",
     "output_type": "stream",
     "text": [
      "# Ship Stats: Constellation Phoenix\n",
      "Dimensions: 63.5m length, 27.75m width, 15.25m height\n",
      "Emissions: IR: 16726, EM Idle: 10268, EM Max: 55491\n",
      "Mass: 427001 kg\n",
      "Cargo capacity: 96 SCU\n",
      "Vehicle Inventory: 8\n",
      "Personal Inventory: 0\n",
      "Crew: Skeleton: 1, Combat: 2\n",
      "Health: 162145\n",
      "Shield HP: 100000 (From shield generator)\n",
      "Speed: SCM: 144 m/s, Max: 911 m/s, 0 to SCM: 3.085 s, 0 to Max: 19.522 s, SCM to 0: 6.175 s, Max to 0: 39.066 s\n",
      "Fuel: Capacity: 660000L, Intake Rate: 0L/s, Usage: Main: 329L\\s, Maneuvering: 90L\\s, Retro: 0L\\s, VTOL: 0L\\s\n",
      "Quantum: Speed: 74485900km/s, Spool Time: 7.75 s, Fuel Capacity: 3000L, Range: 458715596330.2752 m\n",
      "Agility: Pitch: 25°/s, Yaw: 25°/s, Roll: 65°/s, Acceleration: Main: 46.664 m/s², Retro: 23.319 m/s², VTOL: 11.437 m/s², Maneuvering: 22.023 m/s²\n",
      "Armor: IR: 1, EM: 1, Cross Section: 1\n",
      "Focus: Luxury Touring\n",
      "Role: exploration\n",
      "Description: A dedicated luxury spacecraft for the discerning star captain. The Constellation Phoenix can be operated as an organization command ship and features a luxurious redesigned interior. \n",
      "\n",
      "The Phoenix comes with a Lynx rover and a Kruger P-72 Archimedes Fighter\n",
      "Size Number: 4\n",
      "Manufacturer: Roberts Space Industries (RSI)\n",
      "Insurance: Claim Time: 24.299m, Expedite Time: 8.1m, Expedite Cost: 12079 aUEC\n",
      "Updated At: 2023-06-16T14:36:31.000000Z\n",
      "Version: 3.21.0-LIVE.8779972\n",
      "Production Status: Flight Ready\n",
      "Size: Large\n",
      "MSRP: $350 USD\n",
      "## Components\n",
      "1x M Radar\n",
      "1x M Computer\n",
      "1x M Fuel Intake\n",
      "1x M Fuel Tank\n",
      "1x M Quantum Drive\n",
      "1x M Jump Module\n",
      "1x M Quantum Fuel Tank\n",
      "0x - VTOL Thruster Main Thruster\n",
      "0x - Retro Thruster Main Thruster\n",
      "0x - Main Thruster\n",
      "0x - Gimbal Maneuvering Thruster Maneuvering Thruster\n",
      "1x M DayBreak Power Plant\n",
      "1x M Graupel Cooler\n",
      "1x M 5MA Chimalli Shield Generator\n",
      "1x 5 M6A Laser Cannon Weapon\n",
      "2x 2 CF-227 Badger Laser Repeater Turrets\n",
      "0x - TBD Missile Missile\n",
      "Loaner Ships: None\n",
      "\n"
     ]
    }
   ],
   "source": [
    "print(output)"
   ]
  }
 ],
 "metadata": {
  "kernelspec": {
   "display_name": ".venv",
   "language": "python",
   "name": "python3"
  },
  "language_info": {
   "codemirror_mode": {
    "name": "ipython",
    "version": 3
   },
   "file_extension": ".py",
   "mimetype": "text/x-python",
   "name": "python",
   "nbconvert_exporter": "python",
   "pygments_lexer": "ipython3",
   "version": "3.11.5"
  }
 },
 "nbformat": 4,
 "nbformat_minor": 2
}
